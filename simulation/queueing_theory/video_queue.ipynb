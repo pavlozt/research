{
 "cells": [
  {
   "cell_type": "markdown",
   "id": "659a9453-e82b-4695-b9d7-a421d7bbdbcb",
   "metadata": {},
   "source": [
    "# Практическая теория массового обслуживания для сисадминов"
   ]
  },
  {
   "cell_type": "markdown",
   "id": "7eec3ef9-11f8-4666-9e37-700e62b08728",
   "metadata": {},
   "source": [
    "## Постановка задачи\n",
    "\n",
    "В некой системе обработки видеороликов возникла потребность оценить будущую нагрузку и необходимость расширения ресурсов.\n",
    "\n",
    "\n",
    "Чаще всего у веб-сайтов нагрузка зависит от множества факторов и попытки притянуть Теорию Массового Обслуживания (Queueing Theory в англоязычной литературе) слишком сложны, но для крупных заданий, вроде перекодирования видео, результаты близки к теоретическим и зависят почти только от длительности заданий.\n",
    "\n",
    " \n",
    "## Данные \n",
    "В учебниках подобные расчеты выполняются на основе неких оценок распределений, но у нас есть возможность взять реальные данные видеопортала полученные при загрузке и обработке видеороликов. Эти данные находятся в файле videos.csv .\n",
    "Чтобы обеспечить большой поток заявок, данные нужно \"размножить\" - провести процедуру выборки с возвратом."
   ]
  },
  {
   "cell_type": "markdown",
   "id": "2148bc32-55a6-45d2-94c2-0d5605ffae36",
   "metadata": {},
   "source": [
    "## Библиотеки\n",
    "\n",
    "Расчеты удобнее выполнять в языке R в виду наличия простых средств моделирования очередей.\n",
    "\n",
    "Будем использовать специализированный пакет [queuecomputer](https://cran.r-project.org/web/packages/queuecomputer/index.html)\n",
    "\n"
   ]
  },
  {
   "cell_type": "code",
   "execution_count": 1,
   "id": "51901632-9e59-4ef2-83d7-4b0b10a0f988",
   "metadata": {},
   "outputs": [],
   "source": [
    "# Расскомментировать если потребуется установить библиотеку\n",
    "# install.packages(\"queuecomputer\")\n",
    "library(\"queuecomputer\")"
   ]
  },
  {
   "cell_type": "markdown",
   "id": "809565a4-a133-4b14-b828-3c1061581e0c",
   "metadata": {},
   "source": [
    "## Настройки симулируемого процесса\n",
    "\n",
    "- K -  число обработчиков-очередей. \n",
    "- λ (лямбда) - интенсивность потока. Среднее число заявок в единицу времени. Нужно измерить или установить на уровне предполагаемой нагрузки.\n",
    "\n",
    "Производительность дополнительных ядер hyper-threading не поддается линейной оценке и поэтому K придется устанавливать без их учета."
   ]
  },
  {
   "cell_type": "code",
   "execution_count": 2,
   "id": "a51fa4aa-8e80-45f5-9a17-61a04f53f221",
   "metadata": {},
   "outputs": [],
   "source": [
    "K = 4 # число обработчиков-очередей\n",
    "\n",
    "# 1/60 - в среднем 1 новый ролик  в 60 секунд.\n",
    "lambda = 1/60"
   ]
  },
  {
   "cell_type": "code",
   "execution_count": 3,
   "id": "16d247c6-9c47-4a6e-9aea-72c5a46060d0",
   "metadata": {},
   "outputs": [],
   "source": [
    "N <- 10000 # всего синтетических задач для симуляции"
   ]
  },
  {
   "cell_type": "markdown",
   "id": "85f61d9e-f14e-412e-9bcc-ff4fdaebac8a",
   "metadata": {},
   "source": [
    "## Подготовка данных для симуляции\n",
    "\n",
    "Данные о длительности используются как распределение длительностей обработки. Это еще не поток событий."
   ]
  },
  {
   "cell_type": "code",
   "execution_count": 4,
   "id": "9e85e1eb-32b1-4135-b835-77d3e07dc20c",
   "metadata": {},
   "outputs": [],
   "source": [
    "jobs <- read.csv(file=\"videos.csv\")"
   ]
  },
  {
   "cell_type": "markdown",
   "id": "a3019e71-a1ab-4c0a-ba47-e06d730b0a97",
   "metadata": {},
   "source": [
    "Проконтролируем распределение времени выполнения задач визуально с помощью гистограммы:"
   ]
  },
  {
   "cell_type": "code",
   "execution_count": 5,
   "id": "b20e255f-7041-4558-9ec6-7e1c2ffda3c5",
   "metadata": {},
   "outputs": [
    {
     "data": {
      "image/png": "[encoded data removed]",
      "text/plain": [
       "Plot with title \"Histogram of jobs$job_duration\""
      ]
     },
     "metadata": {
      "image/png": {
       "height": 420,
       "width": 420
      }
     },
     "output_type": "display_data"
    }
   ],
   "source": [
    "hist(jobs$job_duration)"
   ]
  },
  {
   "cell_type": "markdown",
   "id": "82ae6ae7-0b12-40f0-9085-d29c3fe8d693",
   "metadata": {},
   "source": [
    "Подготовка данных в формате который принимает пакет queuecomputer. \n",
    "Создадим выборку с возвратом."
   ]
  },
  {
   "cell_type": "code",
   "execution_count": 6,
   "id": "22a1a947-b624-46e0-9879-5ca6f96f2cf3",
   "metadata": {},
   "outputs": [],
   "source": [
    "service_times <- sample(jobs$job_duration,N,replace=TRUE)"
   ]
  },
  {
   "cell_type": "markdown",
   "id": "6d1dc977-2d27-4f25-8fdb-5dc767f298ab",
   "metadata": {},
   "source": [
    "Сформируем [Пуассоновский поток событий](https://ru.wikipedia.org/wiki/%D0%9F%D1%80%D0%BE%D1%86%D0%B5%D1%81%D1%81_%D0%9F%D1%83%D0%B0%D1%81%D1%81%D0%BE%D0%BD%D0%B0). \n",
    "\n",
    "В этом случае времена между событиями  независимы и имеют экспоненциальное распределение."
   ]
  },
  {
   "cell_type": "code",
   "execution_count": 12,
   "id": "fbf556ac-fce4-47ba-a9ca-0e3d0efb33de",
   "metadata": {},
   "outputs": [],
   "source": [
    "inter_times = rexp(N, lambda) \n",
    "arrival_times <- cumsum(inter_times)"
   ]
  },
  {
   "cell_type": "markdown",
   "id": "fa2d313b-e372-4b9c-999d-85ab2c852bbc",
   "metadata": {},
   "source": [
    "## Непосредственно  расчеты\n",
    "Mean waiting time - среднее время ожидания.\n",
    "summary показывает текстовую сводку.\n",
    "\n",
    "Нужно обратить внимание на utilization factor."
   ]
  },
  {
   "cell_type": "code",
   "execution_count": 8,
   "id": "4a5ab3e9-a743-46c6-a16d-226f4807b58e",
   "metadata": {},
   "outputs": [
    {
     "data": {
      "text/plain": [
       "Total customers:\n",
       " 10000\n",
       "Missed customers:\n",
       " 0\n",
       "Mean waiting time:\n",
       " 174\n",
       "Mean response time:\n",
       " 352\n",
       "Utilization factor:\n",
       " 0.736095482028415\n",
       "Mean queue length:\n",
       " 2.9\n",
       "Mean number of customers in system:\n",
       " 5.84"
      ]
     },
     "metadata": {},
     "output_type": "display_data"
    }
   ],
   "source": [
    "queue_obj <- queue_step(arrival_times, service_times, servers = K)\n",
    "summary(queue_obj)"
   ]
  },
  {
   "cell_type": "markdown",
   "id": "61254e86-ab44-49f9-8bad-5c13f9f18c65",
   "metadata": {},
   "source": [
    "график вероятностей ожидания\n",
    "\n",
    "system time - это ожидание + обработка"
   ]
  },
  {
   "cell_type": "code",
   "execution_count": 9,
   "id": "fd1f5281-bb18-443f-87ff-2a4d2abf6e87",
   "metadata": {},
   "outputs": [
    {
     "data": {
      "text/plain": [
       "[[1]]\n"
      ]
     },
     "metadata": {},
     "output_type": "display_data"
    },
    {
     "data": {
      "image/png": "[encoded data removed]",
      "text/plain": [
       "plot without title"
      ]
     },
     "metadata": {
      "image/png": {
       "height": 420,
       "width": 420
      }
     },
     "output_type": "display_data"
    }
   ],
   "source": [
    "plot(queue_obj,which=3)"
   ]
  },
  {
   "cell_type": "markdown",
   "id": "6913aafc-eb78-463b-acb3-769cfe969dca",
   "metadata": {},
   "source": [
    "## Расчет качества\n",
    "\n",
    "Выберем порог времени ожидания, после которого пользователь уходит с сайта, что считается недопустимым для сервиса."
   ]
  },
  {
   "cell_type": "code",
   "execution_count": 10,
   "id": "acf264c9-2a88-4946-aebe-430383f62a4a",
   "metadata": {},
   "outputs": [],
   "source": [
    "threshold <- 15*60 # порог в секундах"
   ]
  },
  {
   "cell_type": "markdown",
   "id": "d8d79be5-53eb-4eaf-a226-3a37cd364dfd",
   "metadata": {},
   "source": [
    "Рассчитаем вероятность того, что отдельно взятый клиент встретится с недопустимым ожиданием в очереди.  Просто используем все рассчитанные случаи загрузки как отдельные независимые события.\n",
    "\n",
    "Вероятность должна быть достаточно маленькой с практической точки зрения. В этом случае подбор параметра K считается удовлетворяющим требования."
   ]
  },
  {
   "cell_type": "code",
   "execution_count": 11,
   "id": "b439ec56-0114-4d8f-b6f3-7b3a8c88c737",
   "metadata": {},
   "outputs": [
    {
     "data": {
      "text/html": [
       "0.0565"
      ],
      "text/latex": [
       "0.0565"
      ],
      "text/markdown": [
       "0.0565"
      ],
      "text/plain": [
       "[1] 0.0565"
      ]
     },
     "metadata": {},
     "output_type": "display_data"
    }
   ],
   "source": [
    "sum(queue_obj$departures_df$waiting > threshold) /length(queue_obj$departures_df$waiting)"
   ]
  },
  {
   "cell_type": "markdown",
   "id": "bce314ad-fba0-4f8f-a08b-e32881406482",
   "metadata": {},
   "source": [
    "## Современный взгляд на проблему\n",
    " Не стоит забывать, что для современных облачных архитектур затраты на подключение новых обработчиков околонулевые и поэтому лучше выбрать динамическое создание серверов. "
   ]
  }
 ],
 "metadata": {
  "kernelspec": {
   "display_name": "R",
   "language": "R",
   "name": "ir"
  },
  "language_info": {
   "codemirror_mode": "r",
   "file_extension": ".r",
   "mimetype": "text/x-r-source",
   "name": "R",
   "pygments_lexer": "r",
   "version": "4.3.2"
  }
 },
 "nbformat": 4,
 "nbformat_minor": 5
}
