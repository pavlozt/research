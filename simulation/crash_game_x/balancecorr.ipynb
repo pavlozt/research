{
 "cells": [
  {
   "cell_type": "markdown",
   "id": "ea4350d5",
   "metadata": {},
   "source": [
    "# Исследование неслучайности выпадающих множителей"
   ]
  },
  {
   "cell_type": "code",
   "execution_count": 1,
   "id": "1d834de0",
   "metadata": {},
   "outputs": [],
   "source": [
    "# набор стандартных библиотек для python\n",
    "import pandas as pd\n",
    "import numpy as np\n",
    "#import numba\n",
    "#from scipy.stats import norm\n",
    "#import matplotlib.pyplot as plt\n",
    "#from numba import njit, jit\n",
    "#from numpy.random import exponential"
   ]
  },
  {
   "cell_type": "code",
   "execution_count": 2,
   "id": "cd341da9",
   "metadata": {},
   "outputs": [
    {
     "name": "stdout",
     "output_type": "stream",
     "text": [
      "PlayID                int64\n",
      "Полёт (getx)        float64\n",
      "Дата и время         object\n",
      "Начало              float64\n",
      "Окончание           float64\n",
      "Полёт (мс)            int64\n",
      "Пропорция           float64\n",
      "Игроков (всего)       int64\n",
      "Призфонд (всего)      int64\n",
      "Игроков (топ)         int64\n",
      "Призфонд (топ)      float64\n",
      "Призфонд (%)        float64\n",
      "Игроки+ (чел)         int64\n",
      "Игроки+ (%)         float64\n",
      "Среднее (ratio)     float64\n",
      "ОргиТоп (руб)       float64\n",
      "ИгрокиТоп (руб)     float64\n",
      "ОргиВсё (руб)       float64\n",
      "ИгрокиВсе (руб)     float64\n",
      "Орги (баланс)       float64\n",
      "dtype: object\n",
      "(58, 20)\n"
     ]
    },
    {
     "data": {
      "text/html": [
       "<div>\n",
       "<style scoped>\n",
       "    .dataframe tbody tr th:only-of-type {\n",
       "        vertical-align: middle;\n",
       "    }\n",
       "\n",
       "    .dataframe tbody tr th {\n",
       "        vertical-align: top;\n",
       "    }\n",
       "\n",
       "    .dataframe thead th {\n",
       "        text-align: right;\n",
       "    }\n",
       "</style>\n",
       "<table border=\"1\" class=\"dataframe\">\n",
       "  <thead>\n",
       "    <tr style=\"text-align: right;\">\n",
       "      <th></th>\n",
       "      <th>PlayID</th>\n",
       "      <th>Полёт (getx)</th>\n",
       "      <th>Дата и время</th>\n",
       "      <th>Начало</th>\n",
       "      <th>Окончание</th>\n",
       "      <th>Полёт (мс)</th>\n",
       "      <th>Пропорция</th>\n",
       "      <th>Игроков (всего)</th>\n",
       "      <th>Призфонд (всего)</th>\n",
       "      <th>Игроков (топ)</th>\n",
       "      <th>Призфонд (топ)</th>\n",
       "      <th>Призфонд (%)</th>\n",
       "      <th>Игроки+ (чел)</th>\n",
       "      <th>Игроки+ (%)</th>\n",
       "      <th>Среднее (ratio)</th>\n",
       "      <th>ОргиТоп (руб)</th>\n",
       "      <th>ИгрокиТоп (руб)</th>\n",
       "      <th>ОргиВсё (руб)</th>\n",
       "      <th>ИгрокиВсе (руб)</th>\n",
       "      <th>Орги (баланс)</th>\n",
       "    </tr>\n",
       "  </thead>\n",
       "  <tbody>\n",
       "    <tr>\n",
       "      <th>0</th>\n",
       "      <td>1678725275</td>\n",
       "      <td>1.05</td>\n",
       "      <td>13.03.2023 16:34:35</td>\n",
       "      <td>44998.690688</td>\n",
       "      <td>44998.690695</td>\n",
       "      <td>653</td>\n",
       "      <td>621.905</td>\n",
       "      <td>268</td>\n",
       "      <td>28428</td>\n",
       "      <td>30</td>\n",
       "      <td>20561.0</td>\n",
       "      <td>72.3</td>\n",
       "      <td>1</td>\n",
       "      <td>3.33</td>\n",
       "      <td>1.04</td>\n",
       "      <td>20316.0</td>\n",
       "      <td>254.8</td>\n",
       "      <td>27921.0</td>\n",
       "      <td>527.2</td>\n",
       "      <td>27900.8</td>\n",
       "    </tr>\n",
       "    <tr>\n",
       "      <th>1</th>\n",
       "      <td>1678725284</td>\n",
       "      <td>2.87</td>\n",
       "      <td>13.03.2023 16:34:44</td>\n",
       "      <td>44998.690790</td>\n",
       "      <td>44998.690895</td>\n",
       "      <td>9104</td>\n",
       "      <td>3172.125</td>\n",
       "      <td>222</td>\n",
       "      <td>17397</td>\n",
       "      <td>30</td>\n",
       "      <td>11686.2</td>\n",
       "      <td>67.2</td>\n",
       "      <td>28</td>\n",
       "      <td>93.33</td>\n",
       "      <td>1.53</td>\n",
       "      <td>476.0</td>\n",
       "      <td>17944.4</td>\n",
       "      <td>856.9</td>\n",
       "      <td>26099.1</td>\n",
       "      <td>-8702.1</td>\n",
       "    </tr>\n",
       "    <tr>\n",
       "      <th>2</th>\n",
       "      <td>1678725301</td>\n",
       "      <td>5.66</td>\n",
       "      <td>13.03.2023 16:35:01</td>\n",
       "      <td>44998.690986</td>\n",
       "      <td>44998.691155</td>\n",
       "      <td>14565</td>\n",
       "      <td>2573.322</td>\n",
       "      <td>263</td>\n",
       "      <td>17154</td>\n",
       "      <td>30</td>\n",
       "      <td>11221.5</td>\n",
       "      <td>65.4</td>\n",
       "      <td>30</td>\n",
       "      <td>100.00</td>\n",
       "      <td>1.74</td>\n",
       "      <td>0.0</td>\n",
       "      <td>19425.3</td>\n",
       "      <td>0.0</td>\n",
       "      <td>29747.9</td>\n",
       "      <td>-12593.9</td>\n",
       "    </tr>\n",
       "  </tbody>\n",
       "</table>\n",
       "</div>"
      ],
      "text/plain": [
       "       PlayID  Полёт (getx)         Дата и время        Начало     Окончание  \\\n",
       "0  1678725275          1.05  13.03.2023 16:34:35  44998.690688  44998.690695   \n",
       "1  1678725284          2.87  13.03.2023 16:34:44  44998.690790  44998.690895   \n",
       "2  1678725301          5.66  13.03.2023 16:35:01  44998.690986  44998.691155   \n",
       "\n",
       "   Полёт (мс)  Пропорция  Игроков (всего)  Призфонд (всего)  Игроков (топ)  \\\n",
       "0         653    621.905              268             28428             30   \n",
       "1        9104   3172.125              222             17397             30   \n",
       "2       14565   2573.322              263             17154             30   \n",
       "\n",
       "   Призфонд (топ)  Призфонд (%)  Игроки+ (чел)  Игроки+ (%)  Среднее (ratio)  \\\n",
       "0         20561.0          72.3              1         3.33             1.04   \n",
       "1         11686.2          67.2             28        93.33             1.53   \n",
       "2         11221.5          65.4             30       100.00             1.74   \n",
       "\n",
       "   ОргиТоп (руб)  ИгрокиТоп (руб)  ОргиВсё (руб)  ИгрокиВсе (руб)  \\\n",
       "0        20316.0            254.8        27921.0            527.2   \n",
       "1          476.0          17944.4          856.9          26099.1   \n",
       "2            0.0          19425.3            0.0          29747.9   \n",
       "\n",
       "   Орги (баланс)  \n",
       "0        27900.8  \n",
       "1        -8702.1  \n",
       "2       -12593.9  "
      ]
     },
     "execution_count": 2,
     "metadata": {},
     "output_type": "execute_result"
    }
   ],
   "source": [
    "df=pd.read_csv('crash_agg_20230313.tsv', sep='\\t',header=0, decimal=',',\n",
    "                #names=['timestamp','point'],parse_dates= [0],\n",
    "               dayfirst=True)\n",
    "print(df.dtypes)\n",
    "print(df.shape)\n",
    "df.head(3)"
   ]
  },
  {
   "cell_type": "code",
   "execution_count": 3,
   "id": "f8df8e9e",
   "metadata": {},
   "outputs": [],
   "source": [
    "df=df[['PlayID','Полёт (getx)','Дата и время', 'Орги (баланс)']]\n",
    "df=df.rename(columns={\"PlayID\": \"playid\", \"Полёт (getx)\": \"multiplier\",'Дата и время':'timestamp','Орги (баланс)':'orgbalance'})"
   ]
  },
  {
   "cell_type": "code",
   "execution_count": 4,
   "id": "96d05c4e",
   "metadata": {},
   "outputs": [
    {
     "data": {
      "text/html": [
       "<div>\n",
       "<style scoped>\n",
       "    .dataframe tbody tr th:only-of-type {\n",
       "        vertical-align: middle;\n",
       "    }\n",
       "\n",
       "    .dataframe tbody tr th {\n",
       "        vertical-align: top;\n",
       "    }\n",
       "\n",
       "    .dataframe thead th {\n",
       "        text-align: right;\n",
       "    }\n",
       "</style>\n",
       "<table border=\"1\" class=\"dataframe\">\n",
       "  <thead>\n",
       "    <tr style=\"text-align: right;\">\n",
       "      <th></th>\n",
       "      <th>playid</th>\n",
       "      <th>multiplier</th>\n",
       "      <th>timestamp</th>\n",
       "      <th>orgbalance</th>\n",
       "    </tr>\n",
       "  </thead>\n",
       "  <tbody>\n",
       "    <tr>\n",
       "      <th>0</th>\n",
       "      <td>1678725275</td>\n",
       "      <td>1.05</td>\n",
       "      <td>13.03.2023 16:34:35</td>\n",
       "      <td>27900.8</td>\n",
       "    </tr>\n",
       "    <tr>\n",
       "      <th>1</th>\n",
       "      <td>1678725284</td>\n",
       "      <td>2.87</td>\n",
       "      <td>13.03.2023 16:34:44</td>\n",
       "      <td>-8702.1</td>\n",
       "    </tr>\n",
       "    <tr>\n",
       "      <th>2</th>\n",
       "      <td>1678725301</td>\n",
       "      <td>5.66</td>\n",
       "      <td>13.03.2023 16:35:01</td>\n",
       "      <td>-12593.9</td>\n",
       "    </tr>\n",
       "  </tbody>\n",
       "</table>\n",
       "</div>"
      ],
      "text/plain": [
       "       playid  multiplier            timestamp  orgbalance\n",
       "0  1678725275        1.05  13.03.2023 16:34:35     27900.8\n",
       "1  1678725284        2.87  13.03.2023 16:34:44     -8702.1\n",
       "2  1678725301        5.66  13.03.2023 16:35:01    -12593.9"
      ]
     },
     "execution_count": 4,
     "metadata": {},
     "output_type": "execute_result"
    }
   ],
   "source": [
    "df.head(3)"
   ]
  },
  {
   "cell_type": "code",
   "execution_count": 5,
   "id": "b57a5338",
   "metadata": {},
   "outputs": [],
   "source": [
    "# данные ставок пользователей пока загружать не будем\n",
    "\n",
    "#users=pd.read_csv('crash_users_bets_20230313.tsv', sep='\\t',header=0, decimal=','\n",
    "#                #names=['timestamp','point'],parse_dates= [0],\n",
    "#               )\n",
    "#print(users.dtypes)\n",
    "#print(users.shape)\n",
    "#users.head(3)"
   ]
  },
  {
   "cell_type": "markdown",
   "id": "3e2b3894",
   "metadata": {},
   "source": [
    "Накопительный баланс оргов в виде скользящей  суммы"
   ]
  },
  {
   "cell_type": "code",
   "execution_count": 6,
   "id": "dbc96ab5",
   "metadata": {},
   "outputs": [
    {
     "data": {
      "text/plain": [
       "<AxesSubplot: >"
      ]
     },
     "execution_count": 6,
     "metadata": {},
     "output_type": "execute_result"
    },
    {
     "data": {
      "image/png": "[encoded data removed]",
      "text/plain": [
       "<Figure size 640x480 with 1 Axes>"
      ]
     },
     "metadata": {},
     "output_type": "display_data"
    }
   ],
   "source": [
    "df.orgbalance.cumsum().plot()"
   ]
  },
  {
   "cell_type": "code",
   "execution_count": 7,
   "id": "21b528d6",
   "metadata": {},
   "outputs": [
    {
     "name": "stderr",
     "output_type": "stream",
     "text": [
      "/home/pavlo/.local/lib/python3.9/site-packages/pandas/core/arraylike.py:402: RuntimeWarning: divide by zero encountered in log\n",
      "  result = getattr(ufunc, method)(*inputs, **kwargs)\n"
     ]
    },
    {
     "data": {
      "text/html": [
       "<div>\n",
       "<style scoped>\n",
       "    .dataframe tbody tr th:only-of-type {\n",
       "        vertical-align: middle;\n",
       "    }\n",
       "\n",
       "    .dataframe tbody tr th {\n",
       "        vertical-align: top;\n",
       "    }\n",
       "\n",
       "    .dataframe thead th {\n",
       "        text-align: right;\n",
       "    }\n",
       "</style>\n",
       "<table border=\"1\" class=\"dataframe\">\n",
       "  <thead>\n",
       "    <tr style=\"text-align: right;\">\n",
       "      <th></th>\n",
       "      <th>playid</th>\n",
       "      <th>multiplier</th>\n",
       "      <th>timestamp</th>\n",
       "      <th>orgbalance</th>\n",
       "      <th>orgcumsum</th>\n",
       "      <th>logmultiplier</th>\n",
       "    </tr>\n",
       "  </thead>\n",
       "  <tbody>\n",
       "    <tr>\n",
       "      <th>0</th>\n",
       "      <td>1678725275</td>\n",
       "      <td>1.05</td>\n",
       "      <td>13.03.2023 16:34:35</td>\n",
       "      <td>27900.8</td>\n",
       "      <td>27900.8</td>\n",
       "      <td>0.048790</td>\n",
       "    </tr>\n",
       "    <tr>\n",
       "      <th>1</th>\n",
       "      <td>1678725284</td>\n",
       "      <td>2.87</td>\n",
       "      <td>13.03.2023 16:34:44</td>\n",
       "      <td>-8702.1</td>\n",
       "      <td>19198.7</td>\n",
       "      <td>1.054312</td>\n",
       "    </tr>\n",
       "    <tr>\n",
       "      <th>2</th>\n",
       "      <td>1678725301</td>\n",
       "      <td>5.66</td>\n",
       "      <td>13.03.2023 16:35:01</td>\n",
       "      <td>-12593.9</td>\n",
       "      <td>6604.8</td>\n",
       "      <td>1.733424</td>\n",
       "    </tr>\n",
       "  </tbody>\n",
       "</table>\n",
       "</div>"
      ],
      "text/plain": [
       "       playid  multiplier            timestamp  orgbalance  orgcumsum  \\\n",
       "0  1678725275        1.05  13.03.2023 16:34:35     27900.8    27900.8   \n",
       "1  1678725284        2.87  13.03.2023 16:34:44     -8702.1    19198.7   \n",
       "2  1678725301        5.66  13.03.2023 16:35:01    -12593.9     6604.8   \n",
       "\n",
       "   logmultiplier  \n",
       "0       0.048790  \n",
       "1       1.054312  \n",
       "2       1.733424  "
      ]
     },
     "execution_count": 7,
     "metadata": {},
     "output_type": "execute_result"
    }
   ],
   "source": [
    "# скользящая сумма (куммулятивная)\n",
    "df['orgcumsum']=df.orgbalance.cumsum()\n",
    "# логарифм от мультипликатора\n",
    "df['logmultiplier']=np.log(df.multiplier)\n",
    "df.head(3)"
   ]
  },
  {
   "cell_type": "code",
   "execution_count": 8,
   "id": "510110fa",
   "metadata": {},
   "outputs": [
    {
     "data": {
      "text/html": [
       "<div>\n",
       "<style scoped>\n",
       "    .dataframe tbody tr th:only-of-type {\n",
       "        vertical-align: middle;\n",
       "    }\n",
       "\n",
       "    .dataframe tbody tr th {\n",
       "        vertical-align: top;\n",
       "    }\n",
       "\n",
       "    .dataframe thead th {\n",
       "        text-align: right;\n",
       "    }\n",
       "</style>\n",
       "<table border=\"1\" class=\"dataframe\">\n",
       "  <thead>\n",
       "    <tr style=\"text-align: right;\">\n",
       "      <th></th>\n",
       "      <th>orgbalance</th>\n",
       "      <th>logmultiplier</th>\n",
       "    </tr>\n",
       "  </thead>\n",
       "  <tbody>\n",
       "    <tr>\n",
       "      <th>0</th>\n",
       "      <td>27900.8</td>\n",
       "      <td>0.048790</td>\n",
       "    </tr>\n",
       "    <tr>\n",
       "      <th>1</th>\n",
       "      <td>-8702.1</td>\n",
       "      <td>1.054312</td>\n",
       "    </tr>\n",
       "    <tr>\n",
       "      <th>2</th>\n",
       "      <td>-12593.9</td>\n",
       "      <td>1.733424</td>\n",
       "    </tr>\n",
       "  </tbody>\n",
       "</table>\n",
       "</div>"
      ],
      "text/plain": [
       "   orgbalance  logmultiplier\n",
       "0     27900.8       0.048790\n",
       "1     -8702.1       1.054312\n",
       "2    -12593.9       1.733424"
      ]
     },
     "execution_count": 8,
     "metadata": {},
     "output_type": "execute_result"
    }
   ],
   "source": [
    "# отберем только нужные колонки\n",
    "logdf=df[['orgbalance','logmultiplier']]\n",
    "logdf.head(3)"
   ]
  },
  {
   "cell_type": "code",
   "execution_count": 9,
   "id": "06e02c70",
   "metadata": {},
   "outputs": [
    {
     "data": {
      "image/png": "[encoded data removed]",
      "text/plain": [
       "<Figure size 500x500 with 6 Axes>"
      ]
     },
     "metadata": {},
     "output_type": "display_data"
    }
   ],
   "source": [
    "# специальный вид парных графиков для оценки корреляций\n",
    "import seaborn as sns\n",
    "sns.pairplot(logdf);"
   ]
  },
  {
   "cell_type": "markdown",
   "id": "e8d1dc29",
   "metadata": {},
   "source": [
    "Классический способ вычисления корреляций в виде числа"
   ]
  },
  {
   "cell_type": "code",
   "execution_count": 10,
   "id": "d5871892",
   "metadata": {},
   "outputs": [
    {
     "data": {
      "text/html": [
       "<div>\n",
       "<style scoped>\n",
       "    .dataframe tbody tr th:only-of-type {\n",
       "        vertical-align: middle;\n",
       "    }\n",
       "\n",
       "    .dataframe tbody tr th {\n",
       "        vertical-align: top;\n",
       "    }\n",
       "\n",
       "    .dataframe thead th {\n",
       "        text-align: right;\n",
       "    }\n",
       "</style>\n",
       "<table border=\"1\" class=\"dataframe\">\n",
       "  <thead>\n",
       "    <tr style=\"text-align: right;\">\n",
       "      <th></th>\n",
       "      <th>orgbalance</th>\n",
       "      <th>logmultiplier</th>\n",
       "    </tr>\n",
       "  </thead>\n",
       "  <tbody>\n",
       "    <tr>\n",
       "      <th>orgbalance</th>\n",
       "      <td>1.000000</td>\n",
       "      <td>-0.810491</td>\n",
       "    </tr>\n",
       "    <tr>\n",
       "      <th>logmultiplier</th>\n",
       "      <td>-0.810491</td>\n",
       "      <td>1.000000</td>\n",
       "    </tr>\n",
       "  </tbody>\n",
       "</table>\n",
       "</div>"
      ],
      "text/plain": [
       "               orgbalance  logmultiplier\n",
       "orgbalance       1.000000      -0.810491\n",
       "logmultiplier   -0.810491       1.000000"
      ]
     },
     "execution_count": 10,
     "metadata": {},
     "output_type": "execute_result"
    }
   ],
   "source": [
    "\n",
    "logdf.corr()"
   ]
  },
  {
   "cell_type": "markdown",
   "id": "77437fb4",
   "metadata": {},
   "source": [
    "# Вывод - подмухлевывают!\n",
    "сильно выраженная отрицательная корреляция между балансом организатора и логарифмом выпадающего множителя"
   ]
  },
  {
   "cell_type": "code",
   "execution_count": null,
   "id": "137c1568",
   "metadata": {},
   "outputs": [],
   "source": []
  }
 ],
 "metadata": {
  "kernelspec": {
   "display_name": "Python 3 (ipykernel)",
   "language": "python",
   "name": "python3"
  },
  "language_info": {
   "codemirror_mode": {
    "name": "ipython",
    "version": 3
   },
   "file_extension": ".py",
   "mimetype": "text/x-python",
   "name": "python",
   "nbconvert_exporter": "python",
   "pygments_lexer": "ipython3",
   "version": "3.9.2"
  }
 },
 "nbformat": 4,
 "nbformat_minor": 5
}
