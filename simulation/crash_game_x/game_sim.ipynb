{
 "cells": [
  {
   "cell_type": "markdown",
   "id": "3f63d2f0",
   "metadata": {},
   "source": [
    "# Симулятор азартной игры в стиле crash game."
   ]
  },
  {
   "cell_type": "markdown",
   "id": "4f836789",
   "metadata": {},
   "source": [
    "## Правила\n",
    " - Игрок делает **ставку** любой суммы на случайный **множитель** от 1.1 до 50.\n",
    " - Выпадает случайный **множитель** число от 0 до 50.\n",
    " - С вероятностью **zerosratio** игрок не получает вообще ничего. множитель = 0. Пусть zerosratio = 0.13 .\n",
    " - Вероятность выпадения выигрыша обратно пропорциональна его множителю. Но, поскольку это множитель, то вероятность нелинейно пропорциональна, а обратно экспонентциально пропорциональна. То есть, распределение множителей соответствует так называемому **экспонентциальному** распределению.\n",
    " - Играем всегда фиксированное число ходов. Игра не прекращается если деньги закончились. Если сумма денег отрицательна - это просто долг игрока. Исследовать нужно и эти случаи тоже."
   ]
  },
  {
   "cell_type": "markdown",
   "id": "5a1989ad",
   "metadata": {},
   "source": [
    "## Цель\n",
    " Выработать выигрышную стратегию"
   ]
  },
  {
   "cell_type": "markdown",
   "id": "510d94ab",
   "metadata": {},
   "source": [
    "## Передположение психологического характера\n",
    " Если все игроки склонны ставить  повышенные ставки, то организатор сосредоточен на получении прибыли от них. \n",
    " Тогда игрок обладающий достаточным терпением и суммой, может оказаться в выигрыше."
   ]
  },
  {
   "cell_type": "code",
   "execution_count": 1,
   "id": "b6a0cd65",
   "metadata": {},
   "outputs": [],
   "source": [
    "# набор стандартных библиотек для python\n",
    "import pandas as pd\n",
    "import numpy as np\n",
    "import numba\n",
    "from scipy.stats import norm\n",
    "import matplotlib.pyplot as plt\n",
    "from numba import njit, jit\n",
    "from numpy.random import exponential"
   ]
  },
  {
   "cell_type": "code",
   "execution_count": 2,
   "id": "4aee0290",
   "metadata": {},
   "outputs": [],
   "source": [
    "zerosratio=0.13"
   ]
  },
  {
   "cell_type": "markdown",
   "id": "91bf37fc",
   "metadata": {},
   "source": [
    "Исходя из правил можно примерно угадать и задать  аналитически функцию выдающую n значений соответствующих описанному распределению:"
   ]
  },
  {
   "cell_type": "markdown",
   "id": "de7a8833",
   "metadata": {},
   "source": [
    "Используя обозначения из модуля python scipy.stats, параметры распределения определены как **loc** и **scale** и формула плотности распределения будет:\n",
    "    $$ Pr = e^{(\\operatorname{loc}-x)}*\\frac{1}{\\operatorname{scale}} $$\n",
    "\n",
    "**loc** = 1, **scale** = 1"
   ]
  },
  {
   "cell_type": "markdown",
   "id": "fe64fd88",
   "metadata": {},
   "source": [
    "Ради скорости используем другой модуль - numpy.random.  Там параметра loc нету, но это не помешает."
   ]
  },
  {
   "cell_type": "code",
   "execution_count": 3,
   "id": "8151eea5",
   "metadata": {},
   "outputs": [],
   "source": [
    "# Рецепт:\n",
    "# Сгенерировать долю в 0.13 значений\n",
    "# Сгенерировать  оставшуюся долю 0.77 значений экспонентциального распределения\n",
    "# Округлить к ближайшему до двух знаков\n",
    "# Равномерно перемешать\n",
    "\n",
    "# TODO - не удалось скомпилировать в numba. Временно не используем\n",
    "\n",
    "#@jit\n",
    "def mult_values(zerosratio: float,size: int) -> np.ndarray :\n",
    "    zeros_values = np.zeros(round(size*zerosratio))\n",
    "    exp_values = 1+np.random.exponential(scale=1.0, size=round((1-zerosratio)*size))\n",
    "    result = np.concatenate((zeros_values, exp_values), axis=None)\n",
    "    result = np.around(result,2)\n",
    "    np.random.shuffle(result)\n",
    "    return result"
   ]
  },
  {
   "cell_type": "code",
   "execution_count": 4,
   "id": "ace58fc7",
   "metadata": {},
   "outputs": [
    {
     "data": {
      "text/plain": [
       "array([1.65, 2.14, 2.09, 3.12, 2.5 , 1.33, 2.46, 0.  , 1.92, 3.53])"
      ]
     },
     "execution_count": 4,
     "metadata": {},
     "output_type": "execute_result"
    }
   ],
   "source": [
    "rvalues = mult_values(0.13,1000)\n",
    "rvalues[:10]"
   ]
  },
  {
   "cell_type": "markdown",
   "id": "f668e88a",
   "metadata": {},
   "source": [
    "Проверим правдоподобность генератора в помощью гистограммы распределений"
   ]
  },
  {
   "cell_type": "code",
   "execution_count": 5,
   "id": "8fbd01d6",
   "metadata": {},
   "outputs": [
    {
     "data": {
      "text/plain": [
       "<AxesSubplot: >"
      ]
     },
     "execution_count": 5,
     "metadata": {},
     "output_type": "execute_result"
    },
    {
     "data": {
      "image/png": "[encoded data removed]",
      "text/plain": [
       "<Figure size 640x480 with 1 Axes>"
      ]
     },
     "metadata": {},
     "output_type": "display_data"
    }
   ],
   "source": [
    "s = pd.Series(rvalues)\n",
    "s.hist(bins=10)"
   ]
  },
  {
   "cell_type": "markdown",
   "id": "38d4c84b",
   "metadata": {},
   "source": [
    "*Задание со звездочкой  : \n",
    "перерисовать гистограмму в логарифмической шкале. Сделать выводы. \n",
    "Получится прямая ?*\n",
    "        "
   ]
  },
  {
   "cell_type": "markdown",
   "id": "157f4e32",
   "metadata": {},
   "source": [
    "# Проверка различных стратегий"
   ]
  },
  {
   "cell_type": "markdown",
   "id": "144e387f",
   "metadata": {},
   "source": [
    "Все стратегии проверяются схожими по структуре функциями:\n",
    "\n",
    "    - на вход подается массив исходов\n",
    "    - на выходе массив возможных исходов"
   ]
  },
  {
   "cell_type": "markdown",
   "id": "6e68e19a",
   "metadata": {},
   "source": [
    "## Стратегия: постоянная ставка на некий коэффициент\n",
    "Просто ставим 100  руб на постоянный коээфициент"
   ]
  },
  {
   "cell_type": "code",
   "execution_count": 6,
   "id": "e7de8b6a",
   "metadata": {},
   "outputs": [],
   "source": [
    "@njit\n",
    "def strategy_const_e (balance: float)  -> float:\n",
    "    return 1.5"
   ]
  },
  {
   "cell_type": "markdown",
   "id": "fc0efffe",
   "metadata": {},
   "source": [
    "Разовая симуляция для отладки (и вообще-то в numba хотя бы раз вызвать функцию для компиляции)"
   ]
  },
  {
   "cell_type": "code",
   "execution_count": 7,
   "id": "d2d207a6",
   "metadata": {},
   "outputs": [
    {
     "name": "stdout",
     "output_type": "stream",
     "text": [
      "9750.0\n"
     ]
    }
   ],
   "source": [
    "start_balance = 5000.0\n",
    "game_rounds = 100 # продолжительность серии игры\n",
    "rvalues = mult_values(0.13,game_rounds)\n",
    "\n",
    "@njit\n",
    "def simulate_one_game(start_balance: float, sequence: np.ndarray) -> float:\n",
    "    balance = start_balance\n",
    "    bet = 100 # постоянная сумма ставки \n",
    "    bet_rate = strategy_const_e(balance) # постоянная стратегия\n",
    "    for outcome  in sequence:\n",
    "        if outcome >= bet_rate and outcome >= 1.1 :\n",
    "            balance += bet * bet_rate\n",
    "        else:\n",
    "            balance -= bet \n",
    "    return balance\n",
    "\n",
    "total = simulate_one_game(start_balance,rvalues)\n",
    "print(total)"
   ]
  },
  {
   "cell_type": "markdown",
   "id": "13f9f3a2",
   "metadata": {},
   "source": [
    "Серия симуляций для выяснения **распределения** прогнозируемой суммы. "
   ]
  },
  {
   "cell_type": "code",
   "execution_count": 11,
   "id": "0f6fa7be",
   "metadata": {},
   "outputs": [
    {
     "data": {
      "text/plain": [
       "array([38000., 43250., 37250., 38500., 39750., 33750., 38500., 34500.,\n",
       "       34750.])"
      ]
     },
     "execution_count": 11,
     "metadata": {},
     "output_type": "execute_result"
    }
   ],
   "source": [
    "game_rounds = 1000 # продолжительность серии игры\n",
    "number_of_games = 10000 # число симуляций\n",
    "game_results = np.zeros(number_of_games)\n",
    "\n",
    "#@jit\n",
    "def simulate_all_games ():\n",
    "    for i in range(number_of_games):\n",
    "        rvalues = mult_values(0.13,game_rounds)\n",
    "        b = simulate_one_game(5000,rvalues)\n",
    "        game_results[i]=simulate_one_game(5000,rvalues)\n",
    "\n",
    "simulate_all_games()\n",
    "# Контроль первых 10 результатов \n",
    "game_results[1:10]"
   ]
  },
  {
   "cell_type": "markdown",
   "id": "318ff200",
   "metadata": {},
   "source": [
    "Теперь можно рассуждать об перспективах в игре с учетом N равновозможных вариантов будущего.\n",
    "Ожидаемая сумма распределиться по этому графику:"
   ]
  },
  {
   "cell_type": "code",
   "execution_count": 12,
   "id": "aec3bf62",
   "metadata": {},
   "outputs": [
    {
     "data": {
      "image/png": "[encoded data removed]",
      "text/plain": [
       "<Figure size 640x480 with 1 Axes>"
      ]
     },
     "metadata": {},
     "output_type": "display_data"
    }
   ],
   "source": [
    "plt.hist(game_results,bins='auto');"
   ]
  },
  {
   "cell_type": "code",
   "execution_count": 13,
   "id": "ea55cc58",
   "metadata": {},
   "outputs": [
    {
     "name": "stdout",
     "output_type": "stream",
     "text": [
      "Начали с  5000.0 . В среднем ожидаем выиграть 37588.425 , но разброс +- 3571.4247534247447\n"
     ]
    }
   ],
   "source": [
    "print('Начали с ', start_balance, '. В среднем ожидаем выиграть', game_results.mean(), \n",
    "      ', но разброс +-',game_results.std())"
   ]
  },
  {
   "cell_type": "markdown",
   "id": "5bec3b42",
   "metadata": {},
   "source": [
    "# Далее \n",
    "Поиск оптимального коээфициента через стохастический градиентный спуск."
   ]
  },
  {
   "cell_type": "code",
   "execution_count": null,
   "id": "515d3f4a",
   "metadata": {},
   "outputs": [],
   "source": []
  }
 ],
 "metadata": {
  "kernelspec": {
   "display_name": "Python 3 (ipykernel)",
   "language": "python",
   "name": "python3"
  },
  "language_info": {
   "codemirror_mode": {
    "name": "ipython",
    "version": 3
   },
   "file_extension": ".py",
   "mimetype": "text/x-python",
   "name": "python",
   "nbconvert_exporter": "python",
   "pygments_lexer": "ipython3",
   "version": "3.9.2"
  }
 },
 "nbformat": 4,
 "nbformat_minor": 5
}
