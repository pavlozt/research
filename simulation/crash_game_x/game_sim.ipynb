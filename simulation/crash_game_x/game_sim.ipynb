{
 "cells": [
  {
   "cell_type": "markdown",
   "id": "3f63d2f0",
   "metadata": {},
   "source": [
    "# Симулятор азартной игры в стиле crash game."
   ]
  },
  {
   "cell_type": "markdown",
   "id": "4f836789",
   "metadata": {},
   "source": [
    "## Правила\n",
    " - Игрок делает **ставку** любой суммы на случайный **множитель** от 1.01 до 50.\n",
    " - Выпадает случайный **множитель** число от 0 до 50.\n",
    " - С вероятностью **zerosratio** игрок не получает вообще ничего. множитель = 0. Пусть zerosratio = 0.11929047424763461 и получен в результате наблюдений.\n",
    " - Вероятность выпадения выигрыша обратно пропорциональна его множителю. Но, поскольку это множитель, то вероятность нелинейно пропорциональна, а обратно экспонентциально пропорциональна. То есть, распределение множителей соответствует так называемому **экспонентциальному** распределению.\n",
    " - Играем всегда фиксированное число ходов. Игра не прекращается если деньги закончились. Если сумма денег отрицательна - это просто долг игрока. Исследовать нужно и эти случаи тоже."
   ]
  },
  {
   "cell_type": "markdown",
   "id": "5a1989ad",
   "metadata": {},
   "source": [
    "## Цель\n",
    " Выработать выигрышную стратегию"
   ]
  },
  {
   "cell_type": "markdown",
   "id": "510d94ab",
   "metadata": {},
   "source": [
    "## Передположение психологического характера\n",
    " Если все игроки склонны ставить  повышенные ставки, то организатор сосредоточен на получении прибыли от них. \n",
    " Тогда игрок обладающий достаточным терпением и суммой, может оказаться в выигрыше."
   ]
  },
  {
   "cell_type": "code",
   "execution_count": 1,
   "id": "b6a0cd65",
   "metadata": {},
   "outputs": [],
   "source": [
    "# набор стандартных библиотек для python\n",
    "import pandas as pd\n",
    "import numpy as np\n",
    "import numba\n",
    "from scipy.stats import norm\n",
    "import matplotlib.pyplot as plt\n",
    "from numba import njit, jit\n",
    "from numpy.random import exponential"
   ]
  },
  {
   "cell_type": "code",
   "execution_count": 2,
   "id": "4aee0290",
   "metadata": {},
   "outputs": [],
   "source": [
    "zerosratio=0.11929047424763461"
   ]
  },
  {
   "cell_type": "markdown",
   "id": "91bf37fc",
   "metadata": {},
   "source": [
    "Исходя из правил можно примерно угадать и задать  аналитически функцию выдающую n значений соответствующих описанному распределению:"
   ]
  },
  {
   "cell_type": "markdown",
   "id": "de7a8833",
   "metadata": {},
   "source": [
    "Используя обозначения из модуля python scipy.stats, параметры распределения определены как **loc** и **scale** и формула плотности распределения будет:\n",
    "    $$ Pr = e^{(\\operatorname{loc}-x)}*\\frac{1}{\\operatorname{scale}} $$\n",
    "\n",
    "**loc** = 1, **scale** = 1"
   ]
  },
  {
   "cell_type": "markdown",
   "id": "ec46a6d7",
   "metadata": {},
   "source": [
    "*вообще говоря, в игре не используется экспонентциальное распределение, а какой-то из вариантов бета-распределения. Это предмет будущих исследований*"
   ]
  },
  {
   "cell_type": "markdown",
   "id": "fe64fd88",
   "metadata": {},
   "source": [
    "Ради скорости используем другой модуль - numpy.random.  Там параметра loc нету, но это не помешает.\n",
    "\n",
    "Исследование и подобор параметров scale не раскрываются. "
   ]
  },
  {
   "cell_type": "code",
   "execution_count": 3,
   "id": "8151eea5",
   "metadata": {},
   "outputs": [],
   "source": [
    "# Рецепт:\n",
    "# Сгенерировать долю нулевых\n",
    "# Сгенерировать  оставшуюся долю ненулвых значений определенного экспонентциального распределения\n",
    "# Округлить к ближайшему до двух знаков\n",
    "# Равномерно перемешать\n",
    "\n",
    "# \n",
    "@njit(parallel=True)\n",
    "def mult_values(zerosratio: float,size: int) -> np.ndarray :\n",
    "    number_of_zeros = round(size*zerosratio)\n",
    "    result = np.zeros(size)\n",
    "    result[number_of_zeros:size]=  1+np.random.exponential(scale=2.0, size=size-number_of_zeros)\n",
    "    np.random.shuffle(result) \n",
    "    return result"
   ]
  },
  {
   "cell_type": "code",
   "execution_count": 4,
   "id": "ace58fc7",
   "metadata": {},
   "outputs": [
    {
     "data": {
      "text/plain": [
       "array([ 3.23006054,  4.15893308,  1.50302036, 12.87695384,  3.59158471,\n",
       "       11.77375966,  0.        , 21.83576822,  3.43840294,  2.43795012])"
      ]
     },
     "execution_count": 4,
     "metadata": {},
     "output_type": "execute_result"
    }
   ],
   "source": [
    "rvalues = mult_values(zerosratio,1000)\n",
    "rvalues[:10]"
   ]
  },
  {
   "cell_type": "markdown",
   "id": "f668e88a",
   "metadata": {},
   "source": [
    "Проверим правдоподобность генератора в помощью гистограммы распределений"
   ]
  },
  {
   "cell_type": "code",
   "execution_count": 5,
   "id": "8fbd01d6",
   "metadata": {},
   "outputs": [
    {
     "data": {
      "text/plain": [
       "<Axes: >"
      ]
     },
     "execution_count": 5,
     "metadata": {},
     "output_type": "execute_result"
    },
    {
     "data": {
      "image/png": "[encoded data removed]",
      "text/plain": [
       "<Figure size 640x480 with 1 Axes>"
      ]
     },
     "metadata": {},
     "output_type": "display_data"
    }
   ],
   "source": [
    "s = pd.Series(rvalues)\n",
    "s.hist(bins='auto')"
   ]
  },
  {
   "cell_type": "markdown",
   "id": "38d4c84b",
   "metadata": {},
   "source": [
    "*Задание со звездочкой  : \n",
    "перерисовать гистограмму в логарифмической шкале. Сделать выводы. \n",
    "Получится прямая ?*\n",
    "        "
   ]
  },
  {
   "cell_type": "markdown",
   "id": "157f4e32",
   "metadata": {},
   "source": [
    "# Проверка различных стратегий"
   ]
  },
  {
   "cell_type": "markdown",
   "id": "144e387f",
   "metadata": {},
   "source": [
    "Все стратегии проверяются схожими по структуре функциями:\n",
    "\n",
    "    - на вход подается массив исходов\n",
    "    - на выходе массив возможных исходов"
   ]
  },
  {
   "cell_type": "markdown",
   "id": "6e68e19a",
   "metadata": {},
   "source": [
    "## Стратегия: постоянная ставка на некий коэффициент\n",
    "Просто ставим 100  руб на постоянный коээфициент"
   ]
  },
  {
   "cell_type": "code",
   "execution_count": 6,
   "id": "e7de8b6a",
   "metadata": {},
   "outputs": [],
   "source": [
    "@njit\n",
    "def strategy_const_k (balance: float, k: float)  -> float:\n",
    "    return k"
   ]
  },
  {
   "cell_type": "markdown",
   "id": "fc0efffe",
   "metadata": {},
   "source": [
    "Разовая симуляция для отладки \n",
    "(и вообще-то в numba хотя бы раз вызвать функцию для компиляции или указать полную сигнатуру)"
   ]
  },
  {
   "cell_type": "code",
   "execution_count": 7,
   "id": "d2d207a6",
   "metadata": {},
   "outputs": [
    {
     "name": "stdout",
     "output_type": "stream",
     "text": [
      "10030.0\n"
     ]
    }
   ],
   "source": [
    "start_balance = 5000.0\n",
    "game_rounds = 1000 # продолжительность серии игры\n",
    "rvalues = mult_values(zerosratio,game_rounds)\n",
    "k=2.7\n",
    "\n",
    "# здесь no transformation for parallel execution was possible\n",
    "# Почему?\n",
    "@njit\n",
    "def simulate_one_game(k: float,start_balance: float,game_rounds: int, sequence: np.ndarray) -> float:\n",
    "    balance = start_balance\n",
    "    bet = 100 # постоянная сумма ставки \n",
    "    bet_rate = strategy_const_k(balance,k) # постоянная стратегия\n",
    "    for outcome  in sequence:\n",
    "        balance = balance - bet\n",
    "        #print('prev:',balance,' ',end='')\n",
    "        if outcome >= bet_rate and outcome >= 1.01 :\n",
    "            balance += bet * bet_rate\n",
    "        #print('outcome',outcome, 'new balance',balance)\n",
    "    return balance\n",
    "\n",
    "total = simulate_one_game(k,start_balance, game_rounds, rvalues)\n",
    "print(total)"
   ]
  },
  {
   "cell_type": "markdown",
   "id": "13f9f3a2",
   "metadata": {},
   "source": [
    "Серия симуляций для выяснения **распределения** прогнозируемой суммы. "
   ]
  },
  {
   "cell_type": "code",
   "execution_count": 8,
   "id": "0f6fa7be",
   "metadata": {},
   "outputs": [
    {
     "name": "stdout",
     "output_type": "stream",
     "text": [
      "CPU times: user 1min 3s, sys: 79.1 ms, total: 1min 4s\n",
      "Wall time: 5.67 s\n"
     ]
    },
    {
     "data": {
      "text/plain": [
       "array([62460., 52740., 62730., 43020., 66780., 44910., 64890., 62190.,\n",
       "       46800., 55980.])"
      ]
     },
     "execution_count": 8,
     "metadata": {},
     "output_type": "execute_result"
    }
   ],
   "source": [
    "%%time\n",
    "game_rounds = 5000 # число подходов в одной игре, раз.\n",
    "number_of_games = 50000 # число симуляций\n",
    "start_balance= 5000.0 # начальный баланс\n",
    "\n",
    "\n",
    "@njit(parallel=True)\n",
    "def simulate_all_games (x: float, game_rounds :int, number_of_games: int) -> np.ndarray :\n",
    "    game_results = np.zeros(number_of_games)\n",
    "    for i in range(number_of_games):\n",
    "        rvalues = mult_values(zerosratio,game_rounds)\n",
    "        game_results[i]=simulate_one_game(x,number_of_games,game_rounds,rvalues)\n",
    "    return game_results \n",
    "\n",
    "game_results=simulate_all_games(2.7,game_rounds,number_of_games)\n",
    "# Контроль первых 10 результатов \n",
    "game_results[0:10]"
   ]
  },
  {
   "cell_type": "markdown",
   "id": "318ff200",
   "metadata": {},
   "source": [
    "Теперь можно рассуждать о перспективах в игре с учетом **number_of_games** равновозможных вариантов будущего.\n",
    "\n",
    "Ожидаемая сумма распределиться по этому графику:\n",
    "\n",
    "*нужно разобраться почему на графике возникает \"гребенка\"*"
   ]
  },
  {
   "cell_type": "code",
   "execution_count": 9,
   "id": "aec3bf62",
   "metadata": {},
   "outputs": [
    {
     "data": {
      "image/png": "[encoded data removed]",
      "text/plain": [
       "<Figure size 640x480 with 1 Axes>"
      ]
     },
     "metadata": {},
     "output_type": "display_data"
    }
   ],
   "source": [
    "plt.hist(game_results,bins='auto');"
   ]
  },
  {
   "cell_type": "code",
   "execution_count": 10,
   "id": "ea55cc58",
   "metadata": {},
   "outputs": [
    {
     "name": "stdout",
     "output_type": "stream",
     "text": [
      "Начали с  5000.0 . В среднем ожидаем выиграть 58251.1374 , но разброс +- 8833.774443369111\n"
     ]
    }
   ],
   "source": [
    "print('Начали с ', start_balance, '. В среднем ожидаем выиграть', game_results.mean(), \n",
    "      ', но разброс +-',game_results.std())"
   ]
  },
  {
   "cell_type": "markdown",
   "id": "ba6592e5",
   "metadata": {},
   "source": [
    "# Поиск оптимального коэффициента "
   ]
  },
  {
   "cell_type": "markdown",
   "id": "aadfc6bd",
   "metadata": {},
   "source": [
    "Зададим функцию для оптимизации. Пусть это будет  обратная от ожидаемого среднего"
   ]
  },
  {
   "cell_type": "code",
   "execution_count": 11,
   "id": "5230218f",
   "metadata": {},
   "outputs": [],
   "source": [
    "def find_function(k):\n",
    "    game_rounds=5000\n",
    "    number_of_games=50000\n",
    "    game_results=simulate_all_games(k,game_rounds,number_of_games)\n",
    "    return -game_results.mean()\n",
    "vfunc = np.vectorize(find_function)"
   ]
  },
  {
   "cell_type": "markdown",
   "id": "a2cc3d19",
   "metadata": {},
   "source": [
    "Отрисуем график в некоторых точках чтобы понять с какой функцией имеем дело. Имеет ли смысл искать коэффициент вообще? "
   ]
  },
  {
   "cell_type": "code",
   "execution_count": 12,
   "id": "9c3b11a8",
   "metadata": {},
   "outputs": [
    {
     "data": {
      "text/plain": [
       "array([ 1.01      ,  1.74631579,  2.48263158,  3.21894737,  3.95526316,\n",
       "        4.69157895,  5.42789474,  6.16421053,  6.90052632,  7.63684211,\n",
       "        8.37315789,  9.10947368,  9.84578947, 10.58210526, 11.31842105,\n",
       "       12.05473684, 12.79105263, 13.52736842, 14.26368421, 15.        ])"
      ]
     },
     "execution_count": 12,
     "metadata": {},
     "output_type": "execute_result"
    }
   ],
   "source": [
    "xs = np.linspace(1.01,15,20)\n",
    "xs"
   ]
  },
  {
   "cell_type": "code",
   "execution_count": 13,
   "id": "16a62e77",
   "metadata": {},
   "outputs": [
    {
     "data": {
      "text/plain": [
       "array([  7412.20058   , -79539.89472632, -71023.74744316, -17522.83859369,\n",
       "        52483.44325263, 123726.30961474, 188874.17779684, 244732.3812379 ,\n",
       "       290964.78449263, 328219.00572632, 357635.12588842, 380426.79555368,\n",
       "       397958.13027053, 411283.99222105, 421326.63648421, 428902.98094316,\n",
       "       434509.2678    , 438670.45018105, 441711.20194105, 443968.05      ])"
      ]
     },
     "execution_count": 13,
     "metadata": {},
     "output_type": "execute_result"
    }
   ],
   "source": [
    "ys = vfunc(xs)\n",
    "ys"
   ]
  },
  {
   "cell_type": "code",
   "execution_count": 14,
   "id": "10264052",
   "metadata": {},
   "outputs": [
    {
     "data": {
      "image/png": "[encoded data removed]",
      "text/plain": [
       "<Figure size 640x480 with 1 Axes>"
      ]
     },
     "metadata": {},
     "output_type": "display_data"
    }
   ],
   "source": [
    "plt.plot(xs,-ys);"
   ]
  },
  {
   "cell_type": "markdown",
   "id": "3782e4d1",
   "metadata": {},
   "source": [
    "Эта вполне гладкая функция без особых случайных колебаний и поэтому можно найти  ее максимум типовым методом."
   ]
  },
  {
   "cell_type": "markdown",
   "id": "782fce04",
   "metadata": {},
   "source": [
    "Есть обычный для подход для этого случая:\n",
    "https://docs.scipy.org/doc/scipy/reference/generated/scipy.optimize.minimize_scalar.html#scipy.optimize.minimize_scalar"
   ]
  },
  {
   "cell_type": "code",
   "execution_count": 15,
   "id": "f6a6a717",
   "metadata": {},
   "outputs": [],
   "source": [
    "from scipy.optimize import minimize_scalar"
   ]
  },
  {
   "cell_type": "code",
   "execution_count": 16,
   "id": "93ff338e",
   "metadata": {},
   "outputs": [
    {
     "data": {
      "text/plain": [
       " message: Solution found.\n",
       " success: True\n",
       "  status: 0\n",
       "     fun: -84251.66360240524\n",
       "       x: 2.0196100657611864\n",
       "     nit: 29\n",
       "    nfev: 29"
      ]
     },
     "execution_count": 16,
     "metadata": {},
     "output_type": "execute_result"
    }
   ],
   "source": [
    "res = minimize_scalar(find_function, 1.5, bounds=(1.1, 20.0), method='bounded')\n",
    "res"
   ]
  },
  {
   "cell_type": "markdown",
   "id": "e1e0d693",
   "metadata": {},
   "source": [
    "# Вывод:\n",
    "Максимальный выигрыш в игре, если она действительно задана описанными параметрами, достигается при постоянной ставке на коэффициент 2.0\n"
   ]
  },
  {
   "cell_type": "code",
   "execution_count": null,
   "id": "073e06b2",
   "metadata": {},
   "outputs": [],
   "source": []
  }
 ],
 "metadata": {
  "kernelspec": {
   "display_name": "Python 3 (ipykernel)",
   "language": "python",
   "name": "python3"
  },
  "language_info": {
   "codemirror_mode": {
    "name": "ipython",
    "version": 3
   },
   "file_extension": ".py",
   "mimetype": "text/x-python",
   "name": "python",
   "nbconvert_exporter": "python",
   "pygments_lexer": "ipython3",
   "version": "3.10.6"
  }
 },
 "nbformat": 4,
 "nbformat_minor": 5
}
