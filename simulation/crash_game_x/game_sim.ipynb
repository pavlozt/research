{
 "cells": [
  {
   "cell_type": "markdown",
   "id": "3f63d2f0",
   "metadata": {},
   "source": [
    "# Симулятор азартной игры в стиле crash game."
   ]
  },
  {
   "cell_type": "markdown",
   "id": "4f836789",
   "metadata": {},
   "source": [
    "## Правила\n",
    " - Игрок делает **ставку** любой суммы на случайный **множитель** от 1.1 до 50.\n",
    " - Выпадает случайный **множитель** число от 0 до 50.\n",
    " - С вероятностью **zerosratio** игрок не получает вообще ничего. множитель = 0. Пусть zerosratio = 0.13 .\n",
    " - Вероятность выпадения выигрыша обратно пропорциональна его множителю. Но, поскольку это множитель, то вероятность нелинейно пропорциональна, а обратно экспонентциально пропорциональна. То есть, распределение множителей соответствует так называемому **экспонентциальному** распределению.\n",
    " - Играем всегда фиксированное число ходов. Игра не прекращается если деньги закончились. Если сумма денег отрицательна - это просто долг игрока. Исследовать нужно и эти случаи тоже."
   ]
  },
  {
   "cell_type": "markdown",
   "id": "5a1989ad",
   "metadata": {},
   "source": [
    "## Цель\n",
    " Выработать выигрышную стратегию"
   ]
  },
  {
   "cell_type": "markdown",
   "id": "510d94ab",
   "metadata": {},
   "source": [
    "## Передположение психологического характера\n",
    " Если все игроки склонны ставить  повышенные ставки, то организатор сосредоточен на получении прибыли от них. \n",
    " Тогда игрок обладающий достаточным терпением и суммой, может оказаться в выигрыше."
   ]
  },
  {
   "cell_type": "code",
   "execution_count": 1,
   "id": "b6a0cd65",
   "metadata": {},
   "outputs": [],
   "source": [
    "# набор стандартных библиотек для python\n",
    "import pandas as pd\n",
    "import numpy as np\n",
    "import numba\n",
    "from scipy.stats import norm\n",
    "import matplotlib.pyplot as plt\n",
    "from numba import njit, jit\n",
    "from numpy.random import exponential"
   ]
  },
  {
   "cell_type": "code",
   "execution_count": 2,
   "id": "4aee0290",
   "metadata": {},
   "outputs": [],
   "source": [
    "zerosratio=0.13"
   ]
  },
  {
   "cell_type": "markdown",
   "id": "91bf37fc",
   "metadata": {},
   "source": [
    "Исходя из правил можно примерно угадать и задать  аналитически функцию выдающую n значений соответствующих описанному распределению:"
   ]
  },
  {
   "cell_type": "markdown",
   "id": "de7a8833",
   "metadata": {},
   "source": [
    "Используя обозначения из модуля python scipy.stats, параметры распределения определены как **loc** и **scale** и формула плотности распределения будет:\n",
    "    $$ Pr = e^{(\\operatorname{loc}-x)}*\\frac{1}{\\operatorname{scale}} $$\n",
    "\n",
    "**loc** = 1, **scale** = 1"
   ]
  },
  {
   "cell_type": "markdown",
   "id": "fe64fd88",
   "metadata": {},
   "source": [
    "Ради скорости используем другой модуль - numpy.random.  Там параметра loc нету, но это не помешает."
   ]
  },
  {
   "cell_type": "code",
   "execution_count": 3,
   "id": "8151eea5",
   "metadata": {},
   "outputs": [],
   "source": [
    "# Рецепт:\n",
    "# Сгенерировать долю в 0.13 значений\n",
    "# Сгенерировать  оставшуюся долю 0.77 значений экспонентциального распределения\n",
    "# Округлить к ближайшему до двух знаков\n",
    "# Равномерно перемешать\n",
    "\n",
    "# TODO - не удалось скомпилировать в numba. Временно не используем\n",
    "\n",
    "#@jit\n",
    "def mult_values(zerosratio: float,size: int) -> np.ndarray :\n",
    "    zeros_values = np.zeros(round(size*zerosratio))\n",
    "    exp_values = 1+np.random.exponential(scale=2.0, size=round((1-zerosratio)*size))\n",
    "    result = np.concatenate((zeros_values, exp_values), axis=None)\n",
    "    result = np.around(result,2)\n",
    "    np.random.shuffle(result)\n",
    "    return result"
   ]
  },
  {
   "cell_type": "code",
   "execution_count": 23,
   "id": "ace58fc7",
   "metadata": {},
   "outputs": [
    {
     "data": {
      "text/plain": [
       "array([2.68, 1.77, 0.  , 5.08, 1.4 , 1.11, 0.  , 1.28, 1.45, 2.95])"
      ]
     },
     "execution_count": 23,
     "metadata": {},
     "output_type": "execute_result"
    }
   ],
   "source": [
    "rvalues = mult_values(0.13,100000)\n",
    "rvalues[:10]"
   ]
  },
  {
   "cell_type": "markdown",
   "id": "f668e88a",
   "metadata": {},
   "source": [
    "Проверим правдоподобность генератора в помощью гистограммы распределений"
   ]
  },
  {
   "cell_type": "code",
   "execution_count": 5,
   "id": "8fbd01d6",
   "metadata": {},
   "outputs": [
    {
     "data": {
      "text/plain": [
       "<Axes: >"
      ]
     },
     "execution_count": 5,
     "metadata": {},
     "output_type": "execute_result"
    },
    {
     "data": {
      "image/png": "[encoded data removed]",
      "text/plain": [
       "<Figure size 640x480 with 1 Axes>"
      ]
     },
     "metadata": {},
     "output_type": "display_data"
    }
   ],
   "source": [
    "s = pd.Series(rvalues)\n",
    "s.hist(bins='auto')"
   ]
  },
  {
   "cell_type": "markdown",
   "id": "38d4c84b",
   "metadata": {},
   "source": [
    "*Задание со звездочкой  : \n",
    "перерисовать гистограмму в логарифмической шкале. Сделать выводы. \n",
    "Получится прямая ?*\n",
    "        "
   ]
  },
  {
   "cell_type": "markdown",
   "id": "157f4e32",
   "metadata": {},
   "source": [
    "# Проверка различных стратегий"
   ]
  },
  {
   "cell_type": "markdown",
   "id": "144e387f",
   "metadata": {},
   "source": [
    "Все стратегии проверяются схожими по структуре функциями:\n",
    "\n",
    "    - на вход подается массив исходов\n",
    "    - на выходе массив возможных исходов"
   ]
  },
  {
   "cell_type": "markdown",
   "id": "6e68e19a",
   "metadata": {},
   "source": [
    "## Стратегия: постоянная ставка на некий коэффициент\n",
    "Просто ставим 100  руб на постоянный коээфициент"
   ]
  },
  {
   "cell_type": "code",
   "execution_count": 6,
   "id": "e7de8b6a",
   "metadata": {},
   "outputs": [],
   "source": [
    "@njit\n",
    "def strategy_const_k (balance: float, k: float)  -> float:\n",
    "    return k"
   ]
  },
  {
   "cell_type": "markdown",
   "id": "fc0efffe",
   "metadata": {},
   "source": [
    "Разовая симуляция для отладки (и вообще-то в numba хотя бы раз вызвать функцию для компиляции)"
   ]
  },
  {
   "cell_type": "code",
   "execution_count": 7,
   "id": "d2d207a6",
   "metadata": {},
   "outputs": [
    {
     "name": "stdout",
     "output_type": "stream",
     "text": [
      "5530.0\n"
     ]
    }
   ],
   "source": [
    "start_balance = 5000.0\n",
    "game_rounds = 100 # продолжительность серии игры\n",
    "rvalues = mult_values(0.13,game_rounds)\n",
    "k=2.7\n",
    "\n",
    "@njit\n",
    "def simulate_one_game(start_balance: float, sequence: np.ndarray) -> float:\n",
    "    balance = start_balance\n",
    "    bet = 100 # постоянная сумма ставки \n",
    "    bet_rate = strategy_const_k(balance,k) # постоянная стратегия\n",
    "    for outcome  in sequence:\n",
    "        balance = balance - bet\n",
    "        #print('prev:',balance,' ',end='')\n",
    "        if outcome >= bet_rate and outcome >= 1.1 :\n",
    "            balance += bet * bet_rate\n",
    "        #print('outcome',outcome, 'new balance',balance)\n",
    "    return balance\n",
    "\n",
    "total = simulate_one_game(start_balance,rvalues)\n",
    "print(total)"
   ]
  },
  {
   "cell_type": "markdown",
   "id": "13f9f3a2",
   "metadata": {},
   "source": [
    "Серия симуляций для выяснения **распределения** прогнозируемой суммы. "
   ]
  },
  {
   "cell_type": "code",
   "execution_count": 24,
   "id": "0f6fa7be",
   "metadata": {},
   "outputs": [
    {
     "data": {
      "text/plain": [
       "array([ 4360.,  5170.,  6790., 12730.,  5170.,  8410.,  4360.,  4360.,\n",
       "        3820.])"
      ]
     },
     "execution_count": 24,
     "metadata": {},
     "output_type": "execute_result"
    }
   ],
   "source": [
    "game_rounds = 1000 # число подходов в одной игре, раз.\n",
    "number_of_games = 100000 # число симуляций\n",
    "game_results = np.zeros(number_of_games)\n",
    "\n",
    "#@jit\n",
    "def simulate_all_games ():\n",
    "    for i in range(number_of_games):\n",
    "        rvalues = mult_values(0.13,game_rounds)\n",
    "        b = simulate_one_game(5000,rvalues)\n",
    "        game_results[i]=simulate_one_game(5000,rvalues)\n",
    "\n",
    "simulate_all_games()\n",
    "# Контроль первых 10 результатов \n",
    "game_results[1:10]"
   ]
  },
  {
   "cell_type": "markdown",
   "id": "318ff200",
   "metadata": {},
   "source": [
    "Теперь можно рассуждать об перспективах в игре с учетом **number_of_games** равновозможных вариантов будущего.\n",
    "\n",
    "Ожидаемая сумма распределиться по этому графику:"
   ]
  },
  {
   "cell_type": "code",
   "execution_count": 9,
   "id": "aec3bf62",
   "metadata": {},
   "outputs": [
    {
     "data": {
      "image/png": "[encoded data removed]",
      "text/plain": [
       "<Figure size 640x480 with 1 Axes>"
      ]
     },
     "metadata": {},
     "output_type": "display_data"
    }
   ],
   "source": [
    "plt.hist(game_results,bins='auto');"
   ]
  },
  {
   "cell_type": "code",
   "execution_count": 10,
   "id": "ea55cc58",
   "metadata": {},
   "outputs": [
    {
     "name": "stdout",
     "output_type": "stream",
     "text": [
      "Начали с  5000.0 . В среднем ожидаем выиграть 5645.3269 , но разброс +- 3950.584192893045\n"
     ]
    }
   ],
   "source": [
    "print('Начали с ', start_balance, '. В среднем ожидаем выиграть', game_results.mean(), \n",
    "      ', но разброс +-',game_results.std())"
   ]
  },
  {
   "cell_type": "markdown",
   "id": "ba6592e5",
   "metadata": {},
   "source": [
    "# Поиск оптимального коэффициента "
   ]
  },
  {
   "cell_type": "markdown",
   "id": "aadfc6bd",
   "metadata": {},
   "source": [
    "Зададим функцию для оптимизации. Пусть это будет  обратная от ожидаемого среднего"
   ]
  },
  {
   "cell_type": "code",
   "execution_count": 13,
   "id": "5230218f",
   "metadata": {},
   "outputs": [],
   "source": [
    "def find_function(x):\n",
    "    # меняем глобальную k и перезапускам старую функцию\n",
    "    k=x\n",
    "    simulate_all_games()\n",
    "    return -game_results.mean()\n",
    "vfunc = np.vectorize(find_function)"
   ]
  },
  {
   "cell_type": "markdown",
   "id": "a2cc3d19",
   "metadata": {},
   "source": [
    "Отрисуем график в некоторых точках чтобы понять с какой функцией имеем дело. Имеет ли смысл искать коэффициент вообще? "
   ]
  },
  {
   "cell_type": "code",
   "execution_count": 17,
   "id": "9c3b11a8",
   "metadata": {},
   "outputs": [
    {
     "data": {
      "text/plain": [
       "array([ 1.01      ,  2.27263158,  3.53526316,  4.79789474,  6.06052632,\n",
       "        7.32315789,  8.58578947,  9.84842105, 11.11105263, 12.37368421,\n",
       "       13.63631579, 14.89894737, 16.16157895, 17.42421053, 18.68684211,\n",
       "       19.94947368, 21.21210526, 22.47473684, 23.73736842, 25.        ])"
      ]
     },
     "execution_count": 17,
     "metadata": {},
     "output_type": "execute_result"
    }
   ],
   "source": [
    "xs = np.linspace(1.01,25,20)\n",
    "xs"
   ]
  },
  {
   "cell_type": "code",
   "execution_count": 18,
   "id": "16a62e77",
   "metadata": {},
   "outputs": [
    {
     "data": {
      "text/plain": [
       "array([-5633.8492, -5649.9358, -5667.1483, -5641.7143, -5665.1908,\n",
       "       -5633.6845, -5639.8486, -5646.6337, -5679.6628, -5669.4487,\n",
       "       -5646.145 , -5663.0524, -5655.0604, -5655.6544, -5645.5537,\n",
       "       -5670.5692, -5645.0218, -5656.9909, -5655.8677, -5662.6717])"
      ]
     },
     "execution_count": 18,
     "metadata": {},
     "output_type": "execute_result"
    }
   ],
   "source": [
    "ys = vfunc(xs)\n",
    "ys"
   ]
  },
  {
   "cell_type": "code",
   "execution_count": 19,
   "id": "10264052",
   "metadata": {},
   "outputs": [
    {
     "data": {
      "text/plain": [
       "[<matplotlib.lines.Line2D at 0x7f80a540f640>]"
      ]
     },
     "execution_count": 19,
     "metadata": {},
     "output_type": "execute_result"
    },
    {
     "data": {
      "image/png": "[encoded data removed]",
      "text/plain": [
       "<Figure size 640x480 with 1 Axes>"
      ]
     },
     "metadata": {},
     "output_type": "display_data"
    }
   ],
   "source": [
    "plt.plot(xs,-ys)"
   ]
  },
  {
   "cell_type": "markdown",
   "id": "e1e0d693",
   "metadata": {},
   "source": [
    "# Вывод:\n",
    "бессмысленно искать минимум функции не заданной гладким образом, а полученной перемешиванием странных чисел"
   ]
  },
  {
   "cell_type": "markdown",
   "id": "782fce04",
   "metadata": {},
   "source": [
    "Используем стандартные функцию scipy\n",
    "https://docs.scipy.org/doc/scipy/reference/generated/scipy.optimize.minimize_scalar.html#scipy.optimize.minimize_scalar"
   ]
  },
  {
   "cell_type": "code",
   "execution_count": 20,
   "id": "f6a6a717",
   "metadata": {},
   "outputs": [],
   "source": [
    "from scipy.optimize import minimize_scalar"
   ]
  },
  {
   "cell_type": "code",
   "execution_count": 21,
   "id": "93ff338e",
   "metadata": {},
   "outputs": [
    {
     "data": {
      "text/plain": [
       " message: Solution found.\n",
       " success: True\n",
       "  status: 0\n",
       "     fun: -5674.5571\n",
       "       x: 27.048047474894283\n",
       "     nit: 29\n",
       "    nfev: 29"
      ]
     },
     "execution_count": 21,
     "metadata": {},
     "output_type": "execute_result"
    }
   ],
   "source": [
    "res = minimize_scalar(find_function, 1.5, bounds=(1.1, 50.0), method='bounded')\n",
    "res"
   ]
  },
  {
   "cell_type": "code",
   "execution_count": null,
   "id": "961f66b9",
   "metadata": {},
   "outputs": [],
   "source": []
  }
 ],
 "metadata": {
  "kernelspec": {
   "display_name": "Python 3 (ipykernel)",
   "language": "python",
   "name": "python3"
  },
  "language_info": {
   "codemirror_mode": {
    "name": "ipython",
    "version": 3
   },
   "file_extension": ".py",
   "mimetype": "text/x-python",
   "name": "python",
   "nbconvert_exporter": "python",
   "pygments_lexer": "ipython3",
   "version": "3.10.6"
  }
 },
 "nbformat": 4,
 "nbformat_minor": 5
}
