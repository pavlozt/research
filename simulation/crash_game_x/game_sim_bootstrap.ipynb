{
 "cells": [
  {
   "cell_type": "markdown",
   "id": "3f63d2f0",
   "metadata": {},
   "source": [
    "# Симулятор азартной игры в стиле crash game."
   ]
  },
  {
   "cell_type": "markdown",
   "id": "4f836789",
   "metadata": {},
   "source": [
    "## Правила\n",
    " - Игрок делает **ставку** любой суммы на случайный **множитель** от 1.01 до 50. Интерфейс игры позволяет забрать деньги ставку в любой момент, но угадать множитель незлья. На практике будем рассматривать только заранее обдуманное решение игрока.  \n",
    " - Выпадает случайный **множитель** число от 0 до 50.\n",
    " - С вероятностью **zerosratio** игрок не получает вообще ничего. множитель = 0. Пусть zerosratio = 0.12 .\n",
    " - Вероятность выпадения выигрыша обратно пропорциональна его множителю. Неизвестно используемое Организатором распределение, но оно должно быть не доходнее экспонентциального. Вполне, вероятно что наблюдаемое распределение можно приблизить логнормальным или бета-распределением. \n",
    " - Играем всегда фиксированное число ходов. Игра не прекращается если деньги закончились. Если сумма денег отрицательна - это просто долг игрока. Исследовать нужно и эти случаи тоже."
   ]
  },
  {
   "cell_type": "markdown",
   "id": "5a1989ad",
   "metadata": {},
   "source": [
    "## Цель\n",
    " Выработать выигрышную стратегию"
   ]
  },
  {
   "cell_type": "markdown",
   "id": "510d94ab",
   "metadata": {},
   "source": [
    "## Передположение психологического характера\n",
    " Если все игроки склонны ставить  повышенные ставки, то организатор сосредоточен на получении прибыли от них. \n",
    " Тогда игрок обладающий достаточным терпением и суммой, может оказаться в выигрыше."
   ]
  },
  {
   "cell_type": "code",
   "execution_count": 1,
   "id": "b6a0cd65",
   "metadata": {},
   "outputs": [],
   "source": [
    "# набор стандартных библиотек для python\n",
    "import pandas as pd\n",
    "import numpy as np\n",
    "import numba\n",
    "from scipy.stats import norm\n",
    "import matplotlib.pyplot as plt\n",
    "from numba import njit, jit\n",
    "from numpy.random import exponential"
   ]
  },
  {
   "cell_type": "markdown",
   "id": "be7bbc44",
   "metadata": {},
   "source": [
    "Немного более точное значение полученное из наблюдений"
   ]
  },
  {
   "cell_type": "code",
   "execution_count": 2,
   "id": "4aee0290",
   "metadata": {},
   "outputs": [],
   "source": [
    "zerosratio=0.11929047424763461"
   ]
  },
  {
   "cell_type": "markdown",
   "id": "de7a8833",
   "metadata": {},
   "source": [
    "# Boostrap \n",
    "В этой версии не используется генератор случайных чисел.\n",
    "Загружаем собранные данные из файла и формируем  из них последовательности желаемого размера. \n",
    "Коээфициент zerosratio так же не участвует в расчетах."
   ]
  },
  {
   "cell_type": "code",
   "execution_count": 3,
   "id": "f3dc02f3",
   "metadata": {},
   "outputs": [
    {
     "data": {
      "text/plain": [
       "timestamp    datetime64[ns]\n",
       "point               float64\n",
       "dtype: object"
      ]
     },
     "execution_count": 3,
     "metadata": {},
     "output_type": "execute_result"
    }
   ],
   "source": [
    "df=pd.read_csv('crash_data.tsv', sep='\\t',header=None, names=['timestamp','point'],parse_dates= [0],dayfirst=True)\n",
    "df =df [df.point < 1000] # в данных есть неправдоподобная ошибка. отбросим слишком высокие множители\n",
    "df.dtypes"
   ]
  },
  {
   "cell_type": "code",
   "execution_count": 4,
   "id": "12c5147d",
   "metadata": {},
   "outputs": [
    {
     "data": {
      "text/html": [
       "<div>\n",
       "<style scoped>\n",
       "    .dataframe tbody tr th:only-of-type {\n",
       "        vertical-align: middle;\n",
       "    }\n",
       "\n",
       "    .dataframe tbody tr th {\n",
       "        vertical-align: top;\n",
       "    }\n",
       "\n",
       "    .dataframe thead th {\n",
       "        text-align: right;\n",
       "    }\n",
       "</style>\n",
       "<table border=\"1\" class=\"dataframe\">\n",
       "  <thead>\n",
       "    <tr style=\"text-align: right;\">\n",
       "      <th></th>\n",
       "      <th>timestamp</th>\n",
       "      <th>point</th>\n",
       "    </tr>\n",
       "  </thead>\n",
       "  <tbody>\n",
       "    <tr>\n",
       "      <th>0</th>\n",
       "      <td>2023-03-01 01:27:30</td>\n",
       "      <td>9.17</td>\n",
       "    </tr>\n",
       "    <tr>\n",
       "      <th>1</th>\n",
       "      <td>2023-03-01 01:27:38</td>\n",
       "      <td>0.00</td>\n",
       "    </tr>\n",
       "    <tr>\n",
       "      <th>2</th>\n",
       "      <td>2023-03-01 01:27:59</td>\n",
       "      <td>4.61</td>\n",
       "    </tr>\n",
       "  </tbody>\n",
       "</table>\n",
       "</div>"
      ],
      "text/plain": [
       "            timestamp  point\n",
       "0 2023-03-01 01:27:30   9.17\n",
       "1 2023-03-01 01:27:38   0.00\n",
       "2 2023-03-01 01:27:59   4.61"
      ]
     },
     "execution_count": 4,
     "metadata": {},
     "output_type": "execute_result"
    }
   ],
   "source": [
    "df.head(3)"
   ]
  },
  {
   "cell_type": "code",
   "execution_count": 5,
   "id": "de896be6",
   "metadata": {},
   "outputs": [
    {
     "data": {
      "text/plain": [
       "array([2.71, 2.19, 1.18, 1.78, 7.46])"
      ]
     },
     "execution_count": 5,
     "metadata": {},
     "output_type": "execute_result"
    }
   ],
   "source": [
    "# Здесь немного сложненько:\n",
    "# чтобы пользоваться njit, нужно чтобы все вызываемые функции тоже были njit. \n",
    "# чтобы это все скомпилировалось в numba, придется писать с использованием только numpy \n",
    "@njit\n",
    "def mult_values_bootstrap(size: int,orig_data: np.ndarray) -> np.ndarray:\n",
    "    return np.random.choice(orig_data,size,replace=True) \n",
    "\n",
    "mult_values_bootstrap(5,df.point.to_numpy())"
   ]
  },
  {
   "cell_type": "code",
   "execution_count": 6,
   "id": "ace58fc7",
   "metadata": {},
   "outputs": [
    {
     "data": {
      "text/plain": [
       "array([2.57, 2.42, 4.97, 4.4 , 2.95, 1.13, 3.72, 2.7 , 3.86, 2.54])"
      ]
     },
     "execution_count": 6,
     "metadata": {},
     "output_type": "execute_result"
    }
   ],
   "source": [
    "rvalues = mult_values_bootstrap(10000,df.point.to_numpy())\n",
    "rvalues[:10]"
   ]
  },
  {
   "cell_type": "markdown",
   "id": "3db0485c",
   "metadata": {},
   "source": [
    "Сравним визуально распределения у выдуманной функции приближения и у данных полученных бутстрапированием.   "
   ]
  },
  {
   "cell_type": "code",
   "execution_count": 7,
   "id": "8151eea5",
   "metadata": {},
   "outputs": [],
   "source": [
    "# Старая функция с аналитическими коээфициентами:\n",
    "# \n",
    "@njit(parallel=True)\n",
    "def mult_values_analitics(zerosratio: float,size: int) -> np.ndarray :\n",
    "    number_of_zeros = round(size*zerosratio)\n",
    "    result = np.zeros(size)\n",
    "    result[number_of_zeros:size]=  1+np.random.exponential(scale=2.0, size=size-number_of_zeros)\n",
    "    np.random.shuffle(result) \n",
    "    return result"
   ]
  },
  {
   "cell_type": "code",
   "execution_count": 8,
   "id": "e294dd4e",
   "metadata": {},
   "outputs": [
    {
     "data": {
      "image/png": "[encoded data removed]",
      "text/plain": [
       "<Figure size 640x480 with 1 Axes>"
      ]
     },
     "metadata": {},
     "output_type": "display_data"
    }
   ],
   "source": [
    "boots_series = pd.Series(rvalues)\n",
    "rvalues_analitics = mult_values_analitics(zerosratio,10000)\n",
    "smooth_series = pd.Series(rvalues_analitics)\n",
    "smooth_series.where(smooth_series<=15).hist(bins=30,alpha=0.5,color='tab:blue')\n",
    "boots_series.where(boots_series <= 15).hist(bins=30,alpha=0.5,color='tab:orange');"
   ]
  },
  {
   "cell_type": "markdown",
   "id": "cfa2f7c4",
   "metadata": {},
   "source": [
    "Есть некоторые нестыковки, но для грубых выводов ипользуемого приближения должно хватать."
   ]
  },
  {
   "cell_type": "markdown",
   "id": "157f4e32",
   "metadata": {},
   "source": [
    "# Проверка различных стратегий"
   ]
  },
  {
   "cell_type": "markdown",
   "id": "144e387f",
   "metadata": {},
   "source": [
    "Все стратегии проверяются схожими по структуре функциями:\n",
    "\n",
    "    - на вход подается массив исходов\n",
    "    - на выходе массив возможных исходов"
   ]
  },
  {
   "cell_type": "markdown",
   "id": "6e68e19a",
   "metadata": {},
   "source": [
    "## Стратегия: постоянная ставка на некий коэффициент\n",
    "Просто ставим 100  руб на постоянный коээфициент K передаваемый как аргумент"
   ]
  },
  {
   "cell_type": "code",
   "execution_count": 9,
   "id": "e7de8b6a",
   "metadata": {},
   "outputs": [],
   "source": [
    "@njit\n",
    "def strategy_const_k (balance: float, k: float)  -> float:\n",
    "    return k"
   ]
  },
  {
   "cell_type": "markdown",
   "id": "fc0efffe",
   "metadata": {},
   "source": [
    "Разовая симуляция для отладки (и вообще-то в numba хотя бы раз вызвать функцию для компиляции).\n",
    "Ранний выход из игры не поддерживается как не добавляющий значительных шансов."
   ]
  },
  {
   "cell_type": "code",
   "execution_count": 10,
   "id": "d2d207a6",
   "metadata": {},
   "outputs": [
    {
     "name": "stdout",
     "output_type": "stream",
     "text": [
      "4180.0\n"
     ]
    }
   ],
   "source": [
    "start_balance = 5000.0\n",
    "game_rounds = 100 # продолжительность серии игры\n",
    "boots_data = df.point.to_numpy()\n",
    "rvalues = mult_values_bootstrap(game_rounds,boots_data)\n",
    "k=2.7\n",
    "\n",
    "@njit\n",
    "def simulate_one_game(k: float,start_balance: float,game_rounds: int, sequence: np.ndarray) -> float:\n",
    "    balance = start_balance\n",
    "    bet = 100 # постоянная сумма ставки \n",
    "    bet_rate = strategy_const_k(balance,k) # постоянная стратегия\n",
    "    for outcome  in sequence:\n",
    "        balance = balance - bet\n",
    "        #print('prev:',balance,' ',end='')\n",
    "        if outcome >= bet_rate and outcome >= 1.01 :\n",
    "            balance += bet * bet_rate\n",
    "        #print('outcome',outcome, 'new balance',balance)\n",
    "    return balance\n",
    "\n",
    "total = simulate_one_game(k,start_balance, game_rounds, rvalues)\n",
    "print(total)"
   ]
  },
  {
   "cell_type": "markdown",
   "id": "13f9f3a2",
   "metadata": {},
   "source": [
    "Серия симуляций для выяснения **распределения** прогнозируемой суммы. "
   ]
  },
  {
   "cell_type": "code",
   "execution_count": 11,
   "id": "0f6fa7be",
   "metadata": {},
   "outputs": [
    {
     "data": {
      "text/plain": [
       "array([42210., 40320., 47880., 38160., 57870., 61110., 42210., 39240.,\n",
       "       56520., 45990.])"
      ]
     },
     "execution_count": 11,
     "metadata": {},
     "output_type": "execute_result"
    }
   ],
   "source": [
    "game_rounds = 5000 # число подходов в одной игре, раз.\n",
    "number_of_games = 50000 # число симуляций\n",
    "start_balance= 5000.0 # начальный баланс\n",
    "boots_data = df.point.to_numpy() # массив данных для bootstrap\n",
    "k=2.7\n",
    "\n",
    "\n",
    "\n",
    "@njit(parallel=True)\n",
    "def simulate_all_games (x: float, game_rounds :int, number_of_games: int) -> np.ndarray :\n",
    "    game_results = np.zeros(number_of_games)\n",
    "    for i in range(number_of_games):\n",
    "        rvalues = mult_values_bootstrap(game_rounds,boots_data)\n",
    "        game_results[i]=simulate_one_game(x,number_of_games,game_rounds,rvalues)\n",
    "    return game_results \n",
    "\n",
    "game_results=simulate_all_games(2.7,game_rounds,number_of_games)\n",
    "# Контроль первых 10 результатов \n",
    "game_results[0:10]"
   ]
  },
  {
   "cell_type": "markdown",
   "id": "318ff200",
   "metadata": {},
   "source": [
    "Теперь можно рассуждать об перспективах в игре с учетом **number_of_games** равновозможных вариантов будущего.\n",
    "\n",
    "Ожидаемая сумма распределиться по этому графику:"
   ]
  },
  {
   "cell_type": "code",
   "execution_count": 12,
   "id": "aec3bf62",
   "metadata": {},
   "outputs": [
    {
     "data": {
      "image/png": "[encoded data removed]",
      "text/plain": [
       "<Figure size 640x480 with 1 Axes>"
      ]
     },
     "metadata": {},
     "output_type": "display_data"
    }
   ],
   "source": [
    "plt.hist(game_results,bins='auto');"
   ]
  },
  {
   "cell_type": "code",
   "execution_count": 13,
   "id": "ea55cc58",
   "metadata": {},
   "outputs": [
    {
     "name": "stdout",
     "output_type": "stream",
     "text": [
      "Начали с  5000.0 . В среднем ожидаем выиграть 51947.5662 , но разброс +- 9221.512769313806\n"
     ]
    }
   ],
   "source": [
    "print('Начали с ', start_balance, '. В среднем ожидаем выиграть', game_results.mean(), \n",
    "      ', но разброс +-',game_results.std())"
   ]
  },
  {
   "cell_type": "markdown",
   "id": "ba6592e5",
   "metadata": {},
   "source": [
    "# Поиск оптимального коэффициента \n"
   ]
  },
  {
   "cell_type": "code",
   "execution_count": 14,
   "id": "33ed080f",
   "metadata": {},
   "outputs": [],
   "source": [
    "def find_function(k):\n",
    "    game_rounds=5000\n",
    "    number_of_games=50000\n",
    "    game_results=simulate_all_games(k,game_rounds,number_of_games)\n",
    "    return -game_results.mean()\n",
    "vfunc = np.vectorize(find_function)"
   ]
  },
  {
   "cell_type": "markdown",
   "id": "b6bbe836",
   "metadata": {},
   "source": [
    "Отрисуем график в некоторых точках чтобы понять с какой функцией имеем дело. Имеет ли смысл искать коэффициент вообще? "
   ]
  },
  {
   "cell_type": "code",
   "execution_count": 15,
   "id": "3b2ede0a",
   "metadata": {},
   "outputs": [
    {
     "data": {
      "text/plain": [
       "array([ 1.01      ,  1.74631579,  2.48263158,  3.21894737,  3.95526316,\n",
       "        4.69157895,  5.42789474,  6.16421053,  6.90052632,  7.63684211,\n",
       "        8.37315789,  9.10947368,  9.84578947, 10.58210526, 11.31842105,\n",
       "       12.05473684, 12.79105263, 13.52736842, 14.26368421, 15.        ])"
      ]
     },
     "execution_count": 15,
     "metadata": {},
     "output_type": "execute_result"
    }
   ],
   "source": [
    "xs = np.linspace(1.01,15,20)\n",
    "xs"
   ]
  },
  {
   "cell_type": "code",
   "execution_count": 16,
   "id": "b639e507",
   "metadata": {},
   "outputs": [
    {
     "data": {
      "text/plain": [
       "array([  5314.97598   , -49393.17539999, -52301.2147579 , -38889.61250105,\n",
       "        -6158.47490526,  32608.34931368,  72877.58129474, 118849.74639158,\n",
       "       154692.41794947, 194508.17965263, 228719.37451579, 264388.98978105,\n",
       "       293727.19625895, 317772.34073053, 337857.28794211, 351852.14084211,\n",
       "       365774.44875158, 377604.85194316, 388483.35451789, 395864.61      ])"
      ]
     },
     "execution_count": 16,
     "metadata": {},
     "output_type": "execute_result"
    }
   ],
   "source": [
    "ys = vfunc(xs)\n",
    "ys"
   ]
  },
  {
   "cell_type": "code",
   "execution_count": 17,
   "id": "e0a6a20f",
   "metadata": {},
   "outputs": [
    {
     "data": {
      "text/plain": [
       "[<matplotlib.lines.Line2D at 0x7f96b0c41370>]"
      ]
     },
     "execution_count": 17,
     "metadata": {},
     "output_type": "execute_result"
    },
    {
     "data": {
      "image/png": "[encoded data removed]",
      "text/plain": [
       "<Figure size 640x480 with 1 Axes>"
      ]
     },
     "metadata": {},
     "output_type": "display_data"
    }
   ],
   "source": [
    "plt.plot(xs,-ys)"
   ]
  },
  {
   "cell_type": "markdown",
   "id": "1c0a0591",
   "metadata": {},
   "source": [
    "Несмотря на опасения связанные с негладкими данными от процедуры bootstrap, \n",
    "функция выглядит более-менее гладко.\n",
    "Попытаемся использовать стандартный метод нахождения максимума."
   ]
  },
  {
   "cell_type": "code",
   "execution_count": 18,
   "id": "98204e75",
   "metadata": {},
   "outputs": [],
   "source": [
    "from scipy.optimize import minimize_scalar"
   ]
  },
  {
   "cell_type": "code",
   "execution_count": 21,
   "id": "e771e48e",
   "metadata": {
    "scrolled": true
   },
   "outputs": [
    {
     "data": {
      "text/plain": [
       " message: Solution found.\n",
       " success: True\n",
       "  status: 0\n",
       "     fun: -57122.694839728734\n",
       "       x: 2.2199993228658577\n",
       "     nit: 28\n",
       "    nfev: 28"
      ]
     },
     "execution_count": 21,
     "metadata": {},
     "output_type": "execute_result"
    }
   ],
   "source": [
    "res = minimize_scalar(find_function, 1.5, bounds=(1.01, 15.0), method='bounded')\n",
    "res"
   ]
  },
  {
   "cell_type": "markdown",
   "id": "44e5306a",
   "metadata": {},
   "source": [
    "# Выводы:\n",
    "  \n",
    "  -  на размноженных данных тоже показано существование оптимальной беспроигрышной стратегии основанной на постоянной ставке.\n",
    "  -  маловеорятно, чтобы создатель игры оставил лазейку для создания беспроигрышной стратегии. Скорее всего, игра является обманом и вывод денег затруднен или даже невозможен."
   ]
  }
 ],
 "metadata": {
  "kernelspec": {
   "display_name": "Python 3 (ipykernel)",
   "language": "python",
   "name": "python3"
  },
  "language_info": {
   "codemirror_mode": {
    "name": "ipython",
    "version": 3
   },
   "file_extension": ".py",
   "mimetype": "text/x-python",
   "name": "python",
   "nbconvert_exporter": "python",
   "pygments_lexer": "ipython3",
   "version": "3.9.2"
  }
 },
 "nbformat": 4,
 "nbformat_minor": 5
}
