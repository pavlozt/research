{
 "cells": [
  {
   "cell_type": "markdown",
   "id": "3f63d2f0",
   "metadata": {},
   "source": [
    "# Симулятор азартной игры в стиле crash game."
   ]
  },
  {
   "cell_type": "markdown",
   "id": "4f836789",
   "metadata": {},
   "source": [
    "## Правила\n",
    " - Игрок делает **ставку** любой суммы на случайный **множитель** от 1.1 до 50.\n",
    " - Выпадает случайный **множитель** число от 0 до 50.\n",
    " - С вероятностью **zerosratio** игрок не получает вообще ничего. множитель = 0. Пусть zerosratio = 0.13 .\n",
    " - Вероятность выпадения выигрыша обратно пропорциональна его множителю. Но, поскольку это множитель, то вероятность нелинейно пропорциональна, а обратно экспонентциально пропорциональна. То есть, распределение множителей соответствует так называемому **экспонентциальному** распределению.\n",
    " - Играем всегда фиксированное число ходов. Игра не прекращается если деньги закончились. Если сумма денег отрицательна - это просто долг игрока. Исследовать нужно и эти случаи тоже."
   ]
  },
  {
   "cell_type": "markdown",
   "id": "5a1989ad",
   "metadata": {},
   "source": [
    "## Цель\n",
    " Выработать выигрышную стратегию"
   ]
  },
  {
   "cell_type": "markdown",
   "id": "510d94ab",
   "metadata": {},
   "source": [
    "## Передположение психологического характера\n",
    " Если все игроки склонны ставить  повышенные ставки, то организатор сосредоточен на получении прибыли от них. \n",
    " Тогда игрок обладающий достаточным терпением и суммой, может оказаться в выигрыше."
   ]
  },
  {
   "cell_type": "code",
   "execution_count": 1,
   "id": "b6a0cd65",
   "metadata": {},
   "outputs": [],
   "source": [
    "# набор стандартных библиотек для python\n",
    "import pandas as pd\n",
    "import numpy as np\n",
    "import numba\n",
    "from scipy.stats import norm\n",
    "import matplotlib.pyplot as plt\n",
    "from numba import njit, jit\n",
    "from numpy.random import exponential\n",
    "from typing import Callable # "
   ]
  },
  {
   "cell_type": "code",
   "execution_count": 2,
   "id": "4aee0290",
   "metadata": {},
   "outputs": [],
   "source": [
    "zerosratio=0.13"
   ]
  },
  {
   "cell_type": "markdown",
   "id": "de7a8833",
   "metadata": {},
   "source": [
    "# Boostrap \n",
    "В этой версии не используется генератор случайных чисел.\n",
    "Загружаем собранные данные из файла и формируем  из них последовательности желаемого размера. "
   ]
  },
  {
   "cell_type": "code",
   "execution_count": 3,
   "id": "f3dc02f3",
   "metadata": {},
   "outputs": [
    {
     "data": {
      "text/plain": [
       "timestamp    datetime64[ns]\n",
       "point               float64\n",
       "dtype: object"
      ]
     },
     "execution_count": 3,
     "metadata": {},
     "output_type": "execute_result"
    }
   ],
   "source": [
    "df=pd.read_csv('crash_data.tsv', sep='\\t',header=None, names=['timestamp','point'],parse_dates= [0],dayfirst=True)\n",
    "df.dtypes"
   ]
  },
  {
   "cell_type": "code",
   "execution_count": 4,
   "id": "12c5147d",
   "metadata": {},
   "outputs": [
    {
     "data": {
      "text/html": [
       "<div>\n",
       "<style scoped>\n",
       "    .dataframe tbody tr th:only-of-type {\n",
       "        vertical-align: middle;\n",
       "    }\n",
       "\n",
       "    .dataframe tbody tr th {\n",
       "        vertical-align: top;\n",
       "    }\n",
       "\n",
       "    .dataframe thead th {\n",
       "        text-align: right;\n",
       "    }\n",
       "</style>\n",
       "<table border=\"1\" class=\"dataframe\">\n",
       "  <thead>\n",
       "    <tr style=\"text-align: right;\">\n",
       "      <th></th>\n",
       "      <th>timestamp</th>\n",
       "      <th>point</th>\n",
       "    </tr>\n",
       "  </thead>\n",
       "  <tbody>\n",
       "    <tr>\n",
       "      <th>0</th>\n",
       "      <td>2023-03-01 01:27:30</td>\n",
       "      <td>9.17</td>\n",
       "    </tr>\n",
       "    <tr>\n",
       "      <th>1</th>\n",
       "      <td>2023-03-01 01:27:38</td>\n",
       "      <td>0.00</td>\n",
       "    </tr>\n",
       "    <tr>\n",
       "      <th>2</th>\n",
       "      <td>2023-03-01 01:27:59</td>\n",
       "      <td>4.61</td>\n",
       "    </tr>\n",
       "  </tbody>\n",
       "</table>\n",
       "</div>"
      ],
      "text/plain": [
       "            timestamp  point\n",
       "0 2023-03-01 01:27:30   9.17\n",
       "1 2023-03-01 01:27:38   0.00\n",
       "2 2023-03-01 01:27:59   4.61"
      ]
     },
     "execution_count": 4,
     "metadata": {},
     "output_type": "execute_result"
    }
   ],
   "source": [
    "df.head(3)"
   ]
  },
  {
   "cell_type": "code",
   "execution_count": 5,
   "id": "de896be6",
   "metadata": {},
   "outputs": [
    {
     "data": {
      "text/plain": [
       "array([0.  , 1.6 , 5.29, 0.  , 2.39])"
      ]
     },
     "execution_count": 5,
     "metadata": {},
     "output_type": "execute_result"
    }
   ],
   "source": [
    "def mult_values(zerosratio: float, size: int) -> np.ndarray:\n",
    "    return df.point.sample(size,replace=True).to_numpy() \n",
    "\n",
    "mult_values(0.13,5)"
   ]
  },
  {
   "cell_type": "code",
   "execution_count": 6,
   "id": "ace58fc7",
   "metadata": {},
   "outputs": [
    {
     "data": {
      "text/plain": [
       "array([8.56, 1.41, 2.49, 3.55, 4.69, 1.06, 1.14, 6.96, 1.2 , 5.54])"
      ]
     },
     "execution_count": 6,
     "metadata": {},
     "output_type": "execute_result"
    }
   ],
   "source": [
    "rvalues = mult_values(0.13,1000)\n",
    "rvalues[:10]"
   ]
  },
  {
   "cell_type": "markdown",
   "id": "f668e88a",
   "metadata": {},
   "source": [
    "Проверим правдоподобность **данных** в помощью гистограммы распределений"
   ]
  },
  {
   "cell_type": "code",
   "execution_count": 7,
   "id": "8fbd01d6",
   "metadata": {},
   "outputs": [
    {
     "data": {
      "text/plain": [
       "<AxesSubplot: >"
      ]
     },
     "execution_count": 7,
     "metadata": {},
     "output_type": "execute_result"
    },
    {
     "data": {
      "image/png": "[encoded data removed]",
      "text/plain": [
       "<Figure size 640x480 with 1 Axes>"
      ]
     },
     "metadata": {},
     "output_type": "display_data"
    }
   ],
   "source": [
    "s = pd.Series(rvalues)\n",
    "s.hist(bins=10)"
   ]
  },
  {
   "cell_type": "code",
   "execution_count": 8,
   "id": "8151eea5",
   "metadata": {},
   "outputs": [],
   "source": [
    "# Старая функция с аналитическими коээфициентами:\n",
    "#@jit\n",
    "def mult_values_analitics(zerosratio: float,size: int) -> np.ndarray :\n",
    "    zeros_values = np.zeros(round(size*zerosratio))\n",
    "    exp_values = 1+np.random.exponential(scale=2.0, size=round((1-zerosratio)*size))\n",
    "    result = np.concatenate((zeros_values, exp_values), axis=None)\n",
    "    result = np.around(result,2)\n",
    "    np.random.shuffle(result)\n",
    "    return result"
   ]
  },
  {
   "cell_type": "code",
   "execution_count": 9,
   "id": "e294dd4e",
   "metadata": {},
   "outputs": [
    {
     "data": {
      "text/plain": [
       "<AxesSubplot: >"
      ]
     },
     "execution_count": 9,
     "metadata": {},
     "output_type": "execute_result"
    },
    {
     "data": {
      "image/png": "[encoded data removed]",
      "text/plain": [
       "<Figure size 640x480 with 1 Axes>"
      ]
     },
     "metadata": {},
     "output_type": "display_data"
    }
   ],
   "source": [
    "rvalues_analitics = mult_values_analitics(0.13,1000)\n",
    "s2 = pd.Series(rvalues_analitics)\n",
    "s2.hist(bins=10)"
   ]
  },
  {
   "cell_type": "markdown",
   "id": "38d4c84b",
   "metadata": {},
   "source": [
    "*Задание со звездочкой  : \n",
    "перерисовать гистограмму в логарифмической шкале. Сделать выводы. \n",
    "Получится прямая ?*\n",
    "        "
   ]
  },
  {
   "cell_type": "markdown",
   "id": "157f4e32",
   "metadata": {},
   "source": [
    "# Проверка различных стратегий"
   ]
  },
  {
   "cell_type": "markdown",
   "id": "144e387f",
   "metadata": {},
   "source": [
    "Все стратегии проверяются схожими по структуре функциями:\n",
    "\n",
    "    - на вход подается массив исходов\n",
    "    - на выходе массив возможных исходов"
   ]
  },
  {
   "cell_type": "markdown",
   "id": "6e68e19a",
   "metadata": {},
   "source": [
    "## Стратегия: постоянная ставка на некий коэффициент\n",
    "Просто ставим 100  руб на постоянный коээфициент K передаваемый как аргумент"
   ]
  },
  {
   "cell_type": "code",
   "execution_count": 10,
   "id": "e7de8b6a",
   "metadata": {},
   "outputs": [],
   "source": [
    "@njit\n",
    "def strategy_const_k (balance: float, k: float)  -> float:\n",
    "    return k"
   ]
  },
  {
   "cell_type": "markdown",
   "id": "fc0efffe",
   "metadata": {},
   "source": [
    "Разовая симуляция для отладки (и вообще-то в numba хотя бы раз вызвать функцию для компиляции).\n",
    "\n",
    "Теперь эта функция поддерживает выход из игры с помощью исключений.\n",
    "Конечно, это провальная идея, но все равно необходим эксперимент чтобы ее подтвердить."
   ]
  },
  {
   "cell_type": "code",
   "execution_count": 11,
   "id": "d2d207a6",
   "metadata": {},
   "outputs": [
    {
     "name": "stdout",
     "output_type": "stream",
     "text": [
      "6070.0\n"
     ]
    }
   ],
   "source": [
    "start_balance = 5000.0\n",
    "game_rounds = 100 # продолжительность серии игры\n",
    "rvalues = mult_values(0.13,game_rounds)\n",
    "k=2.7\n",
    "\n",
    "@njit\n",
    "def simulate_one_game(strategy: Callable, start_balance: float, sequence: np.ndarray) -> float:\n",
    "    balance = start_balance\n",
    "    bet = 100 # постоянная сумма ставки \n",
    "    bet_rate = strategy_const_k(balance,k) # постоянная стратегия\n",
    "    for outcome  in sequence:\n",
    "        balance = balance - bet\n",
    "        #print('prev:',balance,' ',end='')\n",
    "        if outcome >= bet_rate and outcome >= 1.1 :\n",
    "            balance += bet * bet_rate\n",
    "        #print('outcome',outcome, 'new balance',balance)\n",
    "    return balance\n",
    "\n",
    "total = simulate_one_game(strategy_const_k,start_balance,rvalues)\n",
    "print(total)"
   ]
  },
  {
   "cell_type": "markdown",
   "id": "13f9f3a2",
   "metadata": {},
   "source": [
    "Серия симуляций для выяснения **распределения** прогнозируемой суммы. "
   ]
  },
  {
   "cell_type": "code",
   "execution_count": 12,
   "id": "0f6fa7be",
   "metadata": {},
   "outputs": [
    {
     "data": {
      "text/plain": [
       "array([ 8950.,  7330.,  5980.,  3820.,  6790., 15430.,  3010.,  6250.,\n",
       "        4900.])"
      ]
     },
     "execution_count": 12,
     "metadata": {},
     "output_type": "execute_result"
    }
   ],
   "source": [
    "game_rounds = 1000 # число подходов в одной игре, раз.\n",
    "number_of_games = 10000 # число симуляций\n",
    "game_results = np.zeros(number_of_games)\n",
    "k=2.7\n",
    "\n",
    "#@jit\n",
    "def simulate_all_games ():\n",
    "    for i in range(number_of_games):\n",
    "        rvalues = mult_values(0.13,game_rounds)\n",
    "        game_results[i]=simulate_one_game(strategy_const_k,5000,rvalues)\n",
    "\n",
    "simulate_all_games()\n",
    "# Контроль первых 10 результатов \n",
    "game_results[1:10]"
   ]
  },
  {
   "cell_type": "markdown",
   "id": "318ff200",
   "metadata": {},
   "source": [
    "Теперь можно рассуждать об перспективах в игре с учетом **number_of_games** равновозможных вариантов будущего.\n",
    "\n",
    "Ожидаемая сумма распределиться по этому графику:"
   ]
  },
  {
   "cell_type": "code",
   "execution_count": 13,
   "id": "aec3bf62",
   "metadata": {},
   "outputs": [
    {
     "data": {
      "image/png": "[encoded data removed]",
      "text/plain": [
       "<Figure size 640x480 with 1 Axes>"
      ]
     },
     "metadata": {},
     "output_type": "display_data"
    }
   ],
   "source": [
    "plt.hist(game_results,bins='auto');"
   ]
  },
  {
   "cell_type": "code",
   "execution_count": 14,
   "id": "ea55cc58",
   "metadata": {},
   "outputs": [
    {
     "name": "stdout",
     "output_type": "stream",
     "text": [
      "Начали с  5000.0 . В среднем ожидаем выиграть 5391.211 , но разброс +- 4061.089445392578\n"
     ]
    }
   ],
   "source": [
    "print('Начали с ', start_balance, '. В среднем ожидаем выиграть', game_results.mean(), \n",
    "      ', но разброс +-',game_results.std())"
   ]
  },
  {
   "cell_type": "markdown",
   "id": "ba6592e5",
   "metadata": {},
   "source": [
    "# Поиск оптимального коэффициента \n",
    "Используем стандартные функцию scipy\n",
    "https://docs.scipy.org/doc/scipy/reference/generated/scipy.optimize.minimize_scalar.html#scipy.optimize.minimize_scalar"
   ]
  },
  {
   "cell_type": "code",
   "execution_count": 15,
   "id": "a3adf3f9",
   "metadata": {},
   "outputs": [],
   "source": [
    "from scipy.optimize import minimize_scalar"
   ]
  },
  {
   "cell_type": "code",
   "execution_count": 16,
   "id": "33ed080f",
   "metadata": {},
   "outputs": [],
   "source": [
    "def find_function(x):\n",
    "    # меняем глобальную k и перезапускам старую функцию\n",
    "    k=x\n",
    "    simulate_all_games()\n",
    "    return -game_results.mean()"
   ]
  },
  {
   "cell_type": "code",
   "execution_count": 18,
   "id": "e771e48e",
   "metadata": {},
   "outputs": [
    {
     "data": {
      "text/plain": [
       " message: Solution found.\n",
       " success: True\n",
       "  status: 0\n",
       "     fun: -5451.61\n",
       "       x: 25.871834996106024\n",
       "     nit: 34\n",
       "    nfev: 34"
      ]
     },
     "execution_count": 18,
     "metadata": {},
     "output_type": "execute_result"
    }
   ],
   "source": [
    "res = minimize_scalar(find_function, 1.5, bounds=(1.01, 500.0), method='bounded')\n",
    "res"
   ]
  },
  {
   "cell_type": "markdown",
   "id": "58e7865c",
   "metadata": {},
   "source": [
    "Непонятный результат. Вероятно, функция просто не имеет горба, а сильно случайна и исход не зависит от коээфициента"
   ]
  },
  {
   "cell_type": "code",
   "execution_count": null,
   "id": "d33ff422",
   "metadata": {},
   "outputs": [],
   "source": []
  }
 ],
 "metadata": {
  "kernelspec": {
   "display_name": "Python 3 (ipykernel)",
   "language": "python",
   "name": "python3"
  },
  "language_info": {
   "codemirror_mode": {
    "name": "ipython",
    "version": 3
   },
   "file_extension": ".py",
   "mimetype": "text/x-python",
   "name": "python",
   "nbconvert_exporter": "python",
   "pygments_lexer": "ipython3",
   "version": "3.9.2"
  }
 },
 "nbformat": 4,
 "nbformat_minor": 5
}
